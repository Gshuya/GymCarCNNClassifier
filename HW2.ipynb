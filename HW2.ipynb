{
 "cells": [
  {
   "cell_type": "markdown",
   "metadata": {},
   "source": [
    "# Import needed libraries"
   ]
  },
  {
   "cell_type": "code",
   "execution_count": 1,
   "metadata": {},
   "outputs": [
    {
     "name": "stderr",
     "output_type": "stream",
     "text": [
      "2024-01-07 19:48:03.277168: E external/local_xla/xla/stream_executor/cuda/cuda_dnn.cc:9261] Unable to register cuDNN factory: Attempting to register factory for plugin cuDNN when one has already been registered\n",
      "2024-01-07 19:48:03.277265: E external/local_xla/xla/stream_executor/cuda/cuda_fft.cc:607] Unable to register cuFFT factory: Attempting to register factory for plugin cuFFT when one has already been registered\n",
      "2024-01-07 19:48:03.336710: E external/local_xla/xla/stream_executor/cuda/cuda_blas.cc:1515] Unable to register cuBLAS factory: Attempting to register factory for plugin cuBLAS when one has already been registered\n",
      "2024-01-07 19:48:03.463246: I tensorflow/core/platform/cpu_feature_guard.cc:182] This TensorFlow binary is optimized to use available CPU instructions in performance-critical operations.\n",
      "To enable the following instructions: AVX2 FMA, in other operations, rebuild TensorFlow with the appropriate compiler flags.\n",
      "2024-01-07 19:48:05.354140: W tensorflow/compiler/tf2tensorrt/utils/py_utils.cc:38] TF-TRT Warning: Could not find TensorRT\n"
     ]
    }
   ],
   "source": [
    "import tensorflow as tf\n",
    "from tensorflow.keras.preprocessing.image import ImageDataGenerator\n",
    "from tensorflow.keras.models import Sequential, Model\n",
    "from tensorflow.keras.layers import Input, Dense, Activation, Dropout, Flatten,\\\n",
    "                         Conv2D, MaxPooling2D, BatchNormalization, concatenate, Cropping2D, Average\n",
    "from tensorflow.keras import regularizers\n",
    "from tensorflow.keras import optimizers\n",
    "from sklearn.metrics import classification_report, confusion_matrix,ConfusionMatrixDisplay\n",
    "from sklearn.utils.class_weight import compute_class_weight\n",
    "import numpy as np\n",
    "import matplotlib.pyplot as plt\n",
    "import os\n",
    "import pickle\n",
    "import time\n",
    "import tqdm"
   ]
  },
  {
   "cell_type": "code",
   "execution_count": 2,
   "metadata": {},
   "outputs": [
    {
     "name": "stdout",
     "output_type": "stream",
     "text": [
      "/device:GPU:0\n"
     ]
    },
    {
     "name": "stderr",
     "output_type": "stream",
     "text": [
      "2024-01-07 19:48:09.967424: I external/local_xla/xla/stream_executor/cuda/cuda_executor.cc:887] could not open file to read NUMA node: /sys/bus/pci/devices/0000:01:00.0/numa_node\n",
      "Your kernel may have been built without NUMA support.\n",
      "2024-01-07 19:48:10.293406: I external/local_xla/xla/stream_executor/cuda/cuda_executor.cc:887] could not open file to read NUMA node: /sys/bus/pci/devices/0000:01:00.0/numa_node\n",
      "Your kernel may have been built without NUMA support.\n",
      "2024-01-07 19:48:10.293460: I external/local_xla/xla/stream_executor/cuda/cuda_executor.cc:887] could not open file to read NUMA node: /sys/bus/pci/devices/0000:01:00.0/numa_node\n",
      "Your kernel may have been built without NUMA support.\n",
      "2024-01-07 19:48:13.231484: I external/local_xla/xla/stream_executor/cuda/cuda_executor.cc:887] could not open file to read NUMA node: /sys/bus/pci/devices/0000:01:00.0/numa_node\n",
      "Your kernel may have been built without NUMA support.\n",
      "2024-01-07 19:48:13.231673: I external/local_xla/xla/stream_executor/cuda/cuda_executor.cc:887] could not open file to read NUMA node: /sys/bus/pci/devices/0000:01:00.0/numa_node\n",
      "Your kernel may have been built without NUMA support.\n",
      "2024-01-07 19:48:13.231688: I tensorflow/core/common_runtime/gpu/gpu_device.cc:2022] Could not identify NUMA node of platform GPU id 0, defaulting to 0.  Your kernel may not have been built with NUMA support.\n",
      "2024-01-07 19:48:13.231755: I external/local_xla/xla/stream_executor/cuda/cuda_executor.cc:887] could not open file to read NUMA node: /sys/bus/pci/devices/0000:01:00.0/numa_node\n",
      "Your kernel may have been built without NUMA support.\n",
      "2024-01-07 19:48:13.231809: I tensorflow/core/common_runtime/gpu/gpu_device.cc:1929] Created device /device:GPU:0 with 1292 MB memory:  -> device: 0, name: NVIDIA GeForce MX150, pci bus id: 0000:01:00.0, compute capability: 6.1\n"
     ]
    }
   ],
   "source": [
    "device_name = tf.test.gpu_device_name()\n",
    "print(device_name)"
   ]
  },
  {
   "cell_type": "markdown",
   "metadata": {},
   "source": [
    "# Load Data"
   ]
  },
  {
   "cell_type": "code",
   "execution_count": 3,
   "metadata": {},
   "outputs": [
    {
     "name": "stdout",
     "output_type": "stream",
     "text": [
      "Found 6369 images belonging to 5 classes.\n",
      "Found 2749 images belonging to 5 classes.\n",
      "Image input (96, 96, 3)\n",
      "Classes: ['0', '1', '2', '3', '4']\n",
      "Loaded 6369 training samples from 5 classes.\n",
      "Loaded 2749 test samples from 5 classes.\n"
     ]
    }
   ],
   "source": [
    "trainingset = 'train'\n",
    "testset = 'test'\n",
    "\n",
    "batch_size = 16\n",
    "\n",
    "\"\"\"\n",
    "train_datagen = ImageDataGenerator(\n",
    "    zoom_range=0.3,\\\n",
    "    rotation_range=20,\\\n",
    "    width_shift_range=0.2,\\\n",
    "    height_shift_range=0.2,\\\n",
    "    horizontal_flip=True,\\\n",
    "    vertical_flip=False\n",
    "    )\n",
    "\"\"\"\n",
    "train_datagen = ImageDataGenerator()\n",
    "\n",
    "#Generate batches of image data and their corresponding labels from a directory structure\n",
    "train_generator = train_datagen.flow_from_directory(\n",
    "    directory=trainingset,\n",
    "    target_size=(96, 96),\n",
    "    color_mode=\"rgb\",\n",
    "    batch_size=batch_size,\n",
    "    class_mode=\"categorical\",\n",
    "    shuffle=True)\n",
    "\n",
    "test_datagen = ImageDataGenerator()\n",
    "\n",
    "test_generator = test_datagen.flow_from_directory(\n",
    "    directory=testset,\n",
    "    target_size=(96, 96),\n",
    "    color_mode=\"rgb\",\n",
    "    batch_size=batch_size,\n",
    "    class_mode=\"categorical\",\n",
    "    shuffle=False\n",
    ")\n",
    "\n",
    "num_samples = train_generator.n\n",
    "num_classes = train_generator.num_classes\n",
    "input_shape = train_generator.image_shape\n",
    "\n",
    "classnames = [k for k,v in train_generator.class_indices.items()]\n",
    "\n",
    "print(\"Image input %s\" %str(input_shape))\n",
    "print(\"Classes: %r\" %classnames)\n",
    "print('Loaded %d training samples from %d classes.' %(num_samples,num_classes))\n",
    "print('Loaded %d test samples from %d classes.' %(test_generator.n,test_generator.num_classes))\n"
   ]
  },
  {
   "cell_type": "markdown",
   "metadata": {},
   "source": [
    "## Data distribution"
   ]
  },
  {
   "cell_type": "code",
   "execution_count": 4,
   "metadata": {},
   "outputs": [
    {
     "data": {
      "image/png": "[encoded data removed]",
      "text/plain": [
       "<Figure size 640x480 with 1 Axes>"
      ]
     },
     "metadata": {},
     "output_type": "display_data"
    }
   ],
   "source": [
    "# Count the number of samples \n",
    "class_counts = {class_name: 0 for class_name in np.unique(train_generator.classes)}\n",
    "for label in train_generator.classes:\n",
    "    class_counts[label] += 1\n",
    "    if sum(class_counts.values()) >= num_samples:\n",
    "        break\n",
    "\n",
    "# Plot the distribution\n",
    "bars = plt.bar(class_counts.keys(), class_counts.values())\n",
    "plt.xlabel('Class')\n",
    "plt.ylabel('Number of Samples')\n",
    "plt.title('Distribution of Samples in Classes')\n",
    "for bar in bars:\n",
    "    yval = bar.get_height()\n",
    "    plt.text(bar.get_x()+0.2, yval + 25, yval,)\n",
    "plt.show()\n"
   ]
  },
  {
   "cell_type": "markdown",
   "metadata": {},
   "source": [
    "# Model I"
   ]
  },
  {
   "cell_type": "code",
   "execution_count": 5,
   "metadata": {},
   "outputs": [
    {
     "name": "stdout",
     "output_type": "stream",
     "text": [
      "Model: \"sequential\"\n",
      "_________________________________________________________________\n",
      " Layer (type)                Output Shape              Param #   \n",
      "=================================================================\n",
      " conv2d (Conv2D)             (None, 92, 92, 32)        2432      \n",
      "                                                                 \n",
      " activation (Activation)     (None, 92, 92, 32)        0         \n",
      "                                                                 \n",
      " max_pooling2d (MaxPooling2  (None, 46, 46, 32)        0         \n",
      " D)                                                              \n",
      "                                                                 \n",
      " batch_normalization (Batch  (None, 46, 46, 32)        128       \n",
      " Normalization)                                                  \n",
      "                                                                 \n",
      " conv2d_1 (Conv2D)           (None, 44, 44, 64)        18496     \n",
      "                                                                 \n",
      " activation_1 (Activation)   (None, 44, 44, 64)        0         \n",
      "                                                                 \n",
      " max_pooling2d_1 (MaxPoolin  (None, 22, 22, 64)        0         \n",
      " g2D)                                                            \n",
      "                                                                 \n",
      " batch_normalization_1 (Bat  (None, 22, 22, 64)        256       \n",
      " chNormalization)                                                \n",
      "                                                                 \n",
      " flatten (Flatten)           (None, 30976)             0         \n",
      "                                                                 \n",
      " dense (Dense)               (None, 128)               3965056   \n",
      "                                                                 \n",
      " activation_2 (Activation)   (None, 128)               0         \n",
      "                                                                 \n",
      " dropout (Dropout)           (None, 128)               0         \n",
      "                                                                 \n",
      " batch_normalization_2 (Bat  (None, 128)               512       \n",
      " chNormalization)                                                \n",
      "                                                                 \n",
      " dense_1 (Dense)             (None, 5)                 645       \n",
      "                                                                 \n",
      " activation_3 (Activation)   (None, 5)                 0         \n",
      "                                                                 \n",
      "=================================================================\n",
      "Total params: 3987525 (15.21 MB)\n",
      "Trainable params: 3987077 (15.21 MB)\n",
      "Non-trainable params: 448 (1.75 KB)\n",
      "_________________________________________________________________\n"
     ]
    },
    {
     "name": "stderr",
     "output_type": "stream",
     "text": [
      "2024-01-07 19:48:14.040514: I external/local_xla/xla/stream_executor/cuda/cuda_executor.cc:887] could not open file to read NUMA node: /sys/bus/pci/devices/0000:01:00.0/numa_node\n",
      "Your kernel may have been built without NUMA support.\n",
      "2024-01-07 19:48:14.040724: I external/local_xla/xla/stream_executor/cuda/cuda_executor.cc:887] could not open file to read NUMA node: /sys/bus/pci/devices/0000:01:00.0/numa_node\n",
      "Your kernel may have been built without NUMA support.\n",
      "2024-01-07 19:48:14.040772: I external/local_xla/xla/stream_executor/cuda/cuda_executor.cc:887] could not open file to read NUMA node: /sys/bus/pci/devices/0000:01:00.0/numa_node\n",
      "Your kernel may have been built without NUMA support.\n",
      "2024-01-07 19:48:14.041057: I external/local_xla/xla/stream_executor/cuda/cuda_executor.cc:887] could not open file to read NUMA node: /sys/bus/pci/devices/0000:01:00.0/numa_node\n",
      "Your kernel may have been built without NUMA support.\n",
      "2024-01-07 19:48:14.041100: I external/local_xla/xla/stream_executor/cuda/cuda_executor.cc:887] could not open file to read NUMA node: /sys/bus/pci/devices/0000:01:00.0/numa_node\n",
      "Your kernel may have been built without NUMA support.\n",
      "2024-01-07 19:48:14.041135: I external/local_xla/xla/stream_executor/cuda/cuda_executor.cc:887] could not open file to read NUMA node: /sys/bus/pci/devices/0000:01:00.0/numa_node\n",
      "Your kernel may have been built without NUMA support.\n",
      "2024-01-07 19:48:14.041431: I external/local_xla/xla/stream_executor/cuda/cuda_executor.cc:887] could not open file to read NUMA node: /sys/bus/pci/devices/0000:01:00.0/numa_node\n",
      "Your kernel may have been built without NUMA support.\n",
      "2024-01-07 19:48:14.041445: I tensorflow/core/common_runtime/gpu/gpu_device.cc:2022] Could not identify NUMA node of platform GPU id 0, defaulting to 0.  Your kernel may not have been built with NUMA support.\n",
      "2024-01-07 19:48:14.041488: I external/local_xla/xla/stream_executor/cuda/cuda_executor.cc:887] could not open file to read NUMA node: /sys/bus/pci/devices/0000:01:00.0/numa_node\n",
      "Your kernel may have been built without NUMA support.\n",
      "2024-01-07 19:48:14.041503: I tensorflow/core/common_runtime/gpu/gpu_device.cc:1929] Created device /job:localhost/replica:0/task:0/device:GPU:0 with 1292 MB memory:  -> device: 0, name: NVIDIA GeForce MX150, pci bus id: 0000:01:00.0, compute capability: 6.1\n"
     ]
    }
   ],
   "source": [
    "\n",
    "def ModelI(input_shape, num_classes, lr=0.0001):\n",
    "\n",
    "    model = Sequential()\n",
    "\n",
    "    # C1 Convolutional Layer\n",
    "    model.add(Conv2D(filters=32, input_shape=input_shape, kernel_size=(5,5)))\n",
    "    model.add(Activation('relu'))\n",
    "    # Pooling\n",
    "    model.add(MaxPooling2D(pool_size=(2,2), strides=(2,2)))\n",
    "    # Batch Normalisation before passing it to the next layer\n",
    "    model.add(BatchNormalization())\n",
    "\n",
    "    # C2 Convolutional Layer\n",
    "    model.add(Conv2D(filters=64, kernel_size=(3,3)))\n",
    "    model.add(Activation('relu'))\n",
    "    # Pooling\n",
    "    model.add(MaxPooling2D(pool_size=(2,2), strides=(2,2)))\n",
    "    # Batch Normalisation\n",
    "    model.add(BatchNormalization())\n",
    "\n",
    "    # Flatten\n",
    "    model.add(Flatten())\n",
    "\n",
    "    flatten_shape = (input_shape[0]*input_shape[1]*input_shape[2],)\n",
    "\n",
    "    # Dense Layer\n",
    "    # model.add(Dense(128, input_shape=flatten_shape, kernel_regularizer=regularizers.l2(regl2)))\n",
    "    model.add(Dense(128, input_shape=flatten_shape))\n",
    "    model.add(Activation('relu'))\n",
    "    # Dropout\n",
    "    model.add(Dropout(0.4))\n",
    "    # Batch Normalisation\n",
    "    model.add(BatchNormalization())\n",
    "\n",
    "    # Output Layer\n",
    "    model.add(Dense(num_classes))\n",
    "    model.add(Activation('softmax'))\n",
    "\n",
    "    # Compile\n",
    "    adam = optimizers.Adam(learning_rate=lr)\n",
    "    model.compile(loss='categorical_crossentropy', optimizer=adam, metrics=['accuracy'])\n",
    "\n",
    "    return model\n",
    "\n",
    "# create the model\n",
    "model1 = ModelI(input_shape,num_classes)\n",
    "model1.summary()\n",
    "\n",
    "# define the callback\n",
    "callback1 = tf.keras.callbacks.EarlyStopping(monitor='loss',patience=4)\n",
    "\n",
    "# history of results (set to None when initializing a new mdoel)\n",
    "history = None\n"
   ]
  },
  {
   "cell_type": "markdown",
   "metadata": {},
   "source": [
    "## Train"
   ]
  },
  {
   "cell_type": "code",
   "execution_count": 6,
   "metadata": {},
   "outputs": [
    {
     "name": "stdout",
     "output_type": "stream",
     "text": [
      "{0: 1.2738, 1: 0.8492, 2: 0.8492, 3: 0.6369, 4: 3.4520325203252034}\n"
     ]
    }
   ],
   "source": [
    "class_weights = compute_class_weight(class_weight = 'balanced', classes = np.unique(train_generator.classes), y = train_generator.classes)\n",
    "class_weight_dict = dict(enumerate(class_weights))\n",
    "print(class_weight_dict)"
   ]
  },
  {
   "cell_type": "code",
   "execution_count": 7,
   "metadata": {},
   "outputs": [
    {
     "name": "stdout",
     "output_type": "stream",
     "text": [
      "Epoch 1/100\n"
     ]
    },
    {
     "name": "stderr",
     "output_type": "stream",
     "text": [
      "2024-01-07 19:48:17.523840: I external/local_xla/xla/stream_executor/cuda/cuda_dnn.cc:454] Loaded cuDNN version 8902\n",
      "2024-01-07 19:48:20.075366: I external/local_tsl/tsl/platform/default/subprocess.cc:304] Start cannot spawn child process: No such file or directory\n",
      "2024-01-07 19:48:21.754662: I external/local_tsl/tsl/platform/default/subprocess.cc:304] Start cannot spawn child process: No such file or directory\n",
      "2024-01-07 19:48:22.904136: I external/local_xla/xla/service/service.cc:168] XLA service 0x7fdea4002200 initialized for platform CUDA (this does not guarantee that XLA will be used). Devices:\n",
      "2024-01-07 19:48:22.904209: I external/local_xla/xla/service/service.cc:176]   StreamExecutor device (0): NVIDIA GeForce MX150, Compute Capability 6.1\n",
      "2024-01-07 19:48:23.034702: I tensorflow/compiler/mlir/tensorflow/utils/dump_mlir_util.cc:269] disabling MLIR crash reproducer, set env var `MLIR_CRASH_REPRODUCER_DIRECTORY` to enable.\n",
      "WARNING: All log messages before absl::InitializeLog() is called are written to STDERR\n",
      "I0000 00:00:1704653303.225250   51546 device_compiler.h:186] Compiled cluster using XLA!  This line is logged at most once for the lifetime of the process.\n"
     ]
    },
    {
     "name": "stdout",
     "output_type": "stream",
     "text": [
      "398/398 [==============================] - 25s 35ms/step - loss: 1.4737 - accuracy: 0.4412\n",
      "Epoch 2/100\n",
      "398/398 [==============================] - 13s 32ms/step - loss: 1.3217 - accuracy: 0.5065\n",
      "Epoch 3/100\n",
      "398/398 [==============================] - 13s 33ms/step - loss: 1.2907 - accuracy: 0.5196\n",
      "Epoch 4/100\n",
      "398/398 [==============================] - 13s 33ms/step - loss: 1.2411 - accuracy: 0.5322\n",
      "Epoch 5/100\n",
      "398/398 [==============================] - 13s 33ms/step - loss: 1.2095 - accuracy: 0.5459\n",
      "Epoch 6/100\n",
      "398/398 [==============================] - 13s 33ms/step - loss: 1.2238 - accuracy: 0.5475\n",
      "Epoch 7/100\n",
      "398/398 [==============================] - 13s 33ms/step - loss: 1.1862 - accuracy: 0.5534\n",
      "Epoch 8/100\n",
      "398/398 [==============================] - 14s 34ms/step - loss: 1.1470 - accuracy: 0.5730\n",
      "Epoch 9/100\n",
      "398/398 [==============================] - 14s 34ms/step - loss: 1.1435 - accuracy: 0.5737\n",
      "Epoch 10/100\n",
      "398/398 [==============================] - 14s 35ms/step - loss: 1.1195 - accuracy: 0.5863\n",
      "Epoch 11/100\n",
      "398/398 [==============================] - 14s 36ms/step - loss: 1.1112 - accuracy: 0.5771\n",
      "Epoch 12/100\n",
      "398/398 [==============================] - 14s 36ms/step - loss: 1.1132 - accuracy: 0.5756\n",
      "Epoch 13/100\n",
      "398/398 [==============================] - 14s 36ms/step - loss: 1.0892 - accuracy: 0.5918\n",
      "Epoch 14/100\n",
      "398/398 [==============================] - 15s 37ms/step - loss: 1.0536 - accuracy: 0.6074\n",
      "Epoch 15/100\n",
      "398/398 [==============================] - 14s 36ms/step - loss: 1.0366 - accuracy: 0.5997\n",
      "Epoch 16/100\n",
      "398/398 [==============================] - 14s 36ms/step - loss: 1.0652 - accuracy: 0.5975\n",
      "Epoch 17/100\n",
      "398/398 [==============================] - 14s 36ms/step - loss: 1.0252 - accuracy: 0.6205\n",
      "Epoch 18/100\n",
      "398/398 [==============================] - 15s 37ms/step - loss: 1.0014 - accuracy: 0.6279\n",
      "Epoch 19/100\n",
      "398/398 [==============================] - 14s 36ms/step - loss: 0.9910 - accuracy: 0.6331\n",
      "Epoch 20/100\n",
      "398/398 [==============================] - 15s 36ms/step - loss: 1.0043 - accuracy: 0.6082\n",
      "Epoch 21/100\n",
      "398/398 [==============================] - 15s 36ms/step - loss: 0.9481 - accuracy: 0.6370\n",
      "Epoch 22/100\n",
      "398/398 [==============================] - 14s 36ms/step - loss: 0.9346 - accuracy: 0.6449\n",
      "Epoch 23/100\n",
      "398/398 [==============================] - 15s 37ms/step - loss: 0.9376 - accuracy: 0.6419\n",
      "Epoch 24/100\n",
      "398/398 [==============================] - 14s 36ms/step - loss: 0.9199 - accuracy: 0.6457\n",
      "Epoch 25/100\n",
      "398/398 [==============================] - 14s 36ms/step - loss: 0.8771 - accuracy: 0.6649\n",
      "Epoch 26/100\n",
      "398/398 [==============================] - 15s 37ms/step - loss: 0.8660 - accuracy: 0.6617\n",
      "Epoch 27/100\n",
      "398/398 [==============================] - 15s 37ms/step - loss: 0.8627 - accuracy: 0.6778\n",
      "Epoch 28/100\n",
      "398/398 [==============================] - 15s 37ms/step - loss: 0.8377 - accuracy: 0.6757\n",
      "Epoch 29/100\n",
      "398/398 [==============================] - 14s 36ms/step - loss: 0.8455 - accuracy: 0.6707\n",
      "Epoch 30/100\n",
      "398/398 [==============================] - 15s 37ms/step - loss: 0.8266 - accuracy: 0.6781\n",
      "Epoch 31/100\n",
      "398/398 [==============================] - 14s 36ms/step - loss: 0.7704 - accuracy: 0.7071\n",
      "Epoch 32/100\n",
      "398/398 [==============================] - 14s 36ms/step - loss: 0.7610 - accuracy: 0.7146\n",
      "Epoch 33/100\n",
      "398/398 [==============================] - 14s 36ms/step - loss: 0.7498 - accuracy: 0.7157\n",
      "Epoch 34/100\n",
      "398/398 [==============================] - 14s 36ms/step - loss: 0.7357 - accuracy: 0.7192\n",
      "Epoch 35/100\n",
      "398/398 [==============================] - 14s 36ms/step - loss: 0.7400 - accuracy: 0.7115\n",
      "Epoch 36/100\n",
      "398/398 [==============================] - 14s 36ms/step - loss: 0.7877 - accuracy: 0.6880\n",
      "Epoch 37/100\n",
      "398/398 [==============================] - 14s 36ms/step - loss: 0.7133 - accuracy: 0.7198\n",
      "Epoch 38/100\n",
      "398/398 [==============================] - 14s 36ms/step - loss: 0.7124 - accuracy: 0.7267\n",
      "Epoch 39/100\n",
      "398/398 [==============================] - 15s 37ms/step - loss: 0.6635 - accuracy: 0.7426\n",
      "Epoch 40/100\n",
      "398/398 [==============================] - 14s 36ms/step - loss: 0.6950 - accuracy: 0.7354\n",
      "Epoch 41/100\n",
      "398/398 [==============================] - 14s 36ms/step - loss: 0.6622 - accuracy: 0.7448\n",
      "Epoch 42/100\n",
      "398/398 [==============================] - 14s 36ms/step - loss: 0.6230 - accuracy: 0.7581\n",
      "Epoch 43/100\n",
      "398/398 [==============================] - 14s 36ms/step - loss: 0.6246 - accuracy: 0.7620\n",
      "Epoch 44/100\n",
      "398/398 [==============================] - 15s 36ms/step - loss: 0.6175 - accuracy: 0.7727\n",
      "Epoch 45/100\n",
      "398/398 [==============================] - 14s 36ms/step - loss: 0.6111 - accuracy: 0.7623\n",
      "Epoch 46/100\n",
      "398/398 [==============================] - 14s 36ms/step - loss: 0.6124 - accuracy: 0.7655\n",
      "Epoch 47/100\n",
      "398/398 [==============================] - 14s 36ms/step - loss: 0.5918 - accuracy: 0.7759\n",
      "Epoch 48/100\n",
      "398/398 [==============================] - 14s 36ms/step - loss: 0.5682 - accuracy: 0.7837\n",
      "Epoch 49/100\n",
      "398/398 [==============================] - 14s 36ms/step - loss: 0.5950 - accuracy: 0.7719\n",
      "Epoch 50/100\n",
      "398/398 [==============================] - 14s 36ms/step - loss: 0.5745 - accuracy: 0.7771\n",
      "Epoch 51/100\n",
      "398/398 [==============================] - 15s 37ms/step - loss: 0.5343 - accuracy: 0.7976\n",
      "Epoch 52/100\n",
      "398/398 [==============================] - 14s 36ms/step - loss: 0.5410 - accuracy: 0.7966\n",
      "Epoch 53/100\n",
      "398/398 [==============================] - 14s 36ms/step - loss: 0.5346 - accuracy: 0.7899\n",
      "Epoch 54/100\n",
      "398/398 [==============================] - 14s 36ms/step - loss: 0.5550 - accuracy: 0.7839\n",
      "Epoch 55/100\n",
      "398/398 [==============================] - 14s 36ms/step - loss: 0.5162 - accuracy: 0.8018\n",
      "Epoch 56/100\n",
      "398/398 [==============================] - 14s 36ms/step - loss: 0.4948 - accuracy: 0.8059\n",
      "Epoch 57/100\n",
      "398/398 [==============================] - 14s 36ms/step - loss: 0.4749 - accuracy: 0.8061\n",
      "Epoch 58/100\n",
      "398/398 [==============================] - 14s 36ms/step - loss: 0.4300 - accuracy: 0.8303\n",
      "Epoch 59/100\n",
      "398/398 [==============================] - 14s 36ms/step - loss: 0.4389 - accuracy: 0.8289\n",
      "Epoch 60/100\n",
      "398/398 [==============================] - 14s 36ms/step - loss: 0.4496 - accuracy: 0.8253\n",
      "Epoch 61/100\n",
      "398/398 [==============================] - 14s 36ms/step - loss: 0.4153 - accuracy: 0.8374\n",
      "Epoch 62/100\n",
      "398/398 [==============================] - 15s 36ms/step - loss: 0.4223 - accuracy: 0.8320\n",
      "Epoch 63/100\n",
      "398/398 [==============================] - 14s 36ms/step - loss: 0.4550 - accuracy: 0.8234\n",
      "Epoch 64/100\n",
      "398/398 [==============================] - 15s 37ms/step - loss: 0.4671 - accuracy: 0.8114\n",
      "Epoch 65/100\n",
      "398/398 [==============================] - 15s 37ms/step - loss: 0.4584 - accuracy: 0.8297\n",
      "number of epochs trained: 65\n",
      "CPU times: user 18min 53s, sys: 3min 38s, total: 22min 31s\n",
      "Wall time: 15min 43s\n"
     ]
    }
   ],
   "source": [
    "%%time\n",
    "steps_per_epoch=train_generator.n//train_generator.batch_size\n",
    "#val_steps=test_generator.n//test_generator.batch_size+1\n",
    "\n",
    "epochs = 100  # sets number of epochs\n",
    "\n",
    "\n",
    "try:\n",
    "    h = model1.fit(train_generator, epochs=epochs, verbose=1,\\\n",
    "                    steps_per_epoch=steps_per_epoch,\\\n",
    "                    class_weight=class_weight_dict,\\\n",
    "                    callbacks=[callback1],\n",
    "                    #validation_data=test_generator,\\\n",
    "                    #validation_steps=val_steps\n",
    "                    )\n",
    "except KeyboardInterrupt:\n",
    "    pass\n",
    "\n",
    "# append current history\n",
    "if history is None:\n",
    "    history = h.history\n",
    "else:\n",
    "    history['loss'].extend(h.history['loss'])\n",
    "    history['accuracy'].extend(h.history['accuracy'])\n",
    "    #history['val_loss'].extend(h.history['val_loss'])\n",
    "    #history['val_accuracy'].extend(h.history['val_accuracy'])\n",
    "\n",
    "print(\"number of epochs trained: %d\" %len(history['loss']))\n"
   ]
  },
  {
   "cell_type": "code",
   "execution_count": null,
   "metadata": {},
   "outputs": [],
   "source": [
    "# summarize history for accuracy\n",
    "plt.plot(history['accuracy'])\n",
    "#plt.plot(history['val_accuracy'])\n",
    "plt.title('model accuracy')\n",
    "plt.ylabel('accuracy')\n",
    "plt.xlabel('epoch')\n",
    "#plt.legend(['train', 'test'], loc='upper left')\n",
    "plt.show()\n",
    "# summarize history for loss\n",
    "plt.plot(history['loss'])\n",
    "#plt.plot(history['val_loss'])\n",
    "plt.title('model loss')\n",
    "plt.ylabel('loss')\n",
    "plt.xlabel('epoch')\n",
    "#plt.legend(['train', 'test'], loc='upper left') #label of line\n",
    "plt.show()"
   ]
  },
  {
   "cell_type": "markdown",
   "metadata": {},
   "source": [
    "### Save model"
   ]
  },
  {
   "cell_type": "code",
   "execution_count": 10,
   "metadata": {},
   "outputs": [
    {
     "name": "stderr",
     "output_type": "stream",
     "text": [
      "/home/gioia/.local/lib/python3.10/site-packages/keras/src/engine/training.py:3103: UserWarning: You are saving your model as an HDF5 file via `model.save()`. This file format is considered legacy. We recommend using instead the native Keras format, e.g. `model.save('my_model.keras')`.\n",
      "  saving_api.save_model(\n"
     ]
    }
   ],
   "source": [
    "models_dir = 'models'\n",
    "modelname = 'model1_%d_epochs_weg.h5' %len(history['loss'])\n",
    "model1.save(os.path.join(models_dir,modelname))"
   ]
  },
  {
   "cell_type": "markdown",
   "metadata": {},
   "source": [
    "## Evaluate"
   ]
  },
  {
   "cell_type": "code",
   "execution_count": null,
   "metadata": {},
   "outputs": [],
   "source": [
    "#model = tf.keras.models.load_model('models/model1_NoAug_20_epochs.h5')"
   ]
  },
  {
   "cell_type": "code",
   "execution_count": 8,
   "metadata": {},
   "outputs": [
    {
     "name": "stdout",
     "output_type": "stream",
     "text": [
      "172\n",
      "172/172 [==============================] - 5s 16ms/step - loss: 2.7870 - accuracy: 0.4631\n",
      "172/172 [==============================] - 2s 8ms/step\n",
      "Test loss: 2.786995\n",
      "Test accuracy: 0.463077\n",
      "              precision    recall  f1-score   support\n",
      "\n",
      "           0     0.1993    0.4060    0.2673       133\n",
      "           1     0.3216    0.6327    0.4265       275\n",
      "           2     0.3151    0.7389    0.4418       406\n",
      "           3     0.8913    0.3892    0.5419      1896\n",
      "           4     0.0446    0.1795    0.0714        39\n",
      "\n",
      "    accuracy                         0.4631      2749\n",
      "   macro avg     0.3544    0.4693    0.3498      2749\n",
      "weighted avg     0.7037    0.4631    0.4956      2749\n",
      "\n"
     ]
    }
   ],
   "source": [
    "val_steps=test_generator.n//test_generator.batch_size+1\n",
    "print(val_steps)\n",
    "loss, acc = model1.evaluate(test_generator,verbose=1,steps=val_steps)\n",
    "pred = model1.predict(test_generator,verbose=1,steps=val_steps).argmax(axis=1)\n",
    "#print(pred)\n",
    "print('Test loss: %f' %loss)\n",
    "print('Test accuracy: %f' %acc)\n",
    "print(classification_report(test_generator.classes, pred, target_names=classnames,digits=4))\n"
   ]
  },
  {
   "cell_type": "code",
   "execution_count": 9,
   "metadata": {},
   "outputs": [
    {
     "data": {
      "image/png": "[encoded data removed]",
      "text/plain": [
       "<Figure size 640x480 with 2 Axes>"
      ]
     },
     "metadata": {},
     "output_type": "display_data"
    },
    {
     "name": "stdout",
     "output_type": "stream",
     "text": [
      "True                 Predicted         \terrors \terr % \n",
      "------------------------------------------------------------------\n",
      "3                ->  2                 \t577 \t20.99 % \n",
      "3                ->  1                 \t320 \t11.64 % \n",
      "3                ->  0                 \t145 \t5.27 % \n",
      "3                ->  4                 \t116 \t4.22 % \n",
      "2                ->  0                 \t39 \t1.42 % \n",
      "0                ->  2                 \t35 \t1.27 % \n",
      "1                ->  3                 \t33 \t1.20 % \n",
      "1                ->  0                 \t30 \t1.09 % \n",
      "1                ->  2                 \t27 \t0.98 % \n",
      "2                ->  3                 \t27 \t0.98 % \n",
      "2                ->  1                 \t23 \t0.84 % \n",
      "0                ->  3                 \t20 \t0.73 % \n",
      "0                ->  1                 \t18 \t0.65 % \n",
      "2                ->  4                 \t17 \t0.62 % \n",
      "4                ->  2                 \t13 \t0.47 % \n",
      "1                ->  4                 \t11 \t0.40 % \n",
      "4                ->  3                 \t10 \t0.36 % \n",
      "0                ->  4                 \t6 \t0.22 % \n",
      "4                ->  1                 \t6 \t0.22 % \n",
      "4                ->  0                 \t3 \t0.11 % \n"
     ]
    }
   ],
   "source": [
    "ytest = test_generator.classes\n",
    "cm = confusion_matrix(ytest, pred)\n",
    "disp = ConfusionMatrixDisplay(confusion_matrix=cm,display_labels=classnames)\n",
    "disp.plot(cmap=plt.cm.Blues)\n",
    "plt.show()\n",
    "\n",
    "\n",
    "conf = [] # data structure for confusions: list of (i,j,cm[i][j])\n",
    "for i in range(0,cm.shape[0]):\n",
    "  for j in range(0,cm.shape[1]):\n",
    "    if (i!=j and cm[i][j]>0):\n",
    "      conf.append([i,j,cm[i][j]])\n",
    "\n",
    "col=2\n",
    "conf = np.array(conf)\n",
    "conf = conf[np.argsort(-conf[:,col])]  # decreasing order by 3-rd column (i.e., cm[i][j])\n",
    "\n",
    "print('%-16s     %-16s  \\t%s \\t%s ' %('True','Predicted','errors','err %'))\n",
    "print('------------------------------------------------------------------')\n",
    "for k in conf:\n",
    "  print('%-16s ->  %-16s  \\t%d \\t%.2f %% ' %(classnames[k[0]],classnames[k[1]],k[2],k[2]*100.0/test_generator.n))"
   ]
  },
  {
   "cell_type": "markdown",
   "metadata": {},
   "source": [
    "# Model II"
   ]
  },
  {
   "cell_type": "code",
   "execution_count": 8,
   "metadata": {},
   "outputs": [
    {
     "name": "stdout",
     "output_type": "stream",
     "text": [
      "Model: \"model_1\"\n",
      "_________________________________________________________________\n",
      " Layer (type)                Output Shape              Param #   \n",
      "=================================================================\n",
      " input_2 (InputLayer)        [(None, 96, 96, 3)]       0         \n",
      "                                                                 \n",
      " conv2d_4 (Conv2D)           (None, 94, 94, 32)        896       \n",
      "                                                                 \n",
      " max_pooling2d_3 (MaxPoolin  (None, 47, 47, 32)        0         \n",
      " g2D)                                                            \n",
      "                                                                 \n",
      " conv2d_5 (Conv2D)           (None, 45, 45, 64)        18496     \n",
      "                                                                 \n",
      " max_pooling2d_4 (MaxPoolin  (None, 22, 22, 64)        0         \n",
      " g2D)                                                            \n",
      "                                                                 \n",
      " conv2d_6 (Conv2D)           (None, 20, 20, 128)       73856     \n",
      "                                                                 \n",
      " conv2d_7 (Conv2D)           (None, 18, 18, 128)       147584    \n",
      "                                                                 \n",
      " max_pooling2d_5 (MaxPoolin  (None, 9, 9, 128)         0         \n",
      " g2D)                                                            \n",
      "                                                                 \n",
      " conv2d_8 (Conv2D)           (None, 7, 7, 256)         295168    \n",
      "                                                                 \n",
      " max_pooling2d_6 (MaxPoolin  (None, 3, 3, 256)         0         \n",
      " g2D)                                                            \n",
      "                                                                 \n",
      " batch_normalization_1 (Bat  (None, 3, 3, 256)         1024      \n",
      " chNormalization)                                                \n",
      "                                                                 \n",
      " flatten_1 (Flatten)         (None, 2304)              0         \n",
      "                                                                 \n",
      " dense_2 (Dense)             (None, 128)               295040    \n",
      "                                                                 \n",
      " dropout_1 (Dropout)         (None, 128)               0         \n",
      "                                                                 \n",
      " dense_3 (Dense)             (None, 5)                 645       \n",
      "                                                                 \n",
      "=================================================================\n",
      "Total params: 832709 (3.18 MB)\n",
      "Trainable params: 832197 (3.17 MB)\n",
      "Non-trainable params: 512 (2.00 KB)\n",
      "_________________________________________________________________\n"
     ]
    }
   ],
   "source": [
    "def model2(input_shape, num_classes, lr = 0.001):\n",
    "    input_layer = Input(input_shape) \n",
    "\n",
    "    # 4 cov layers\n",
    "    x = Conv2D(32, (3, 3), activation='relu')(input_layer)\n",
    "    x = MaxPooling2D((2, 2))(x)\n",
    "    x = Conv2D(64, (3, 3), activation='relu')(x)\n",
    "    x = MaxPooling2D((2, 2))(x)\n",
    "    x = Conv2D(128, (3, 3), activation='relu')(x)\n",
    "    #x = Conv2D(128, (3, 3), activation='relu')(x)\n",
    "    x = MaxPooling2D((2, 2))(x)\n",
    "    x = Conv2D(256, (3, 3), activation='relu')(x)\n",
    "    x = MaxPooling2D((2, 2))(x)\n",
    "    x = BatchNormalization()(x)\n",
    "    x = Flatten()(x)\n",
    "    x = Dense(128, activation='relu')(x)\n",
    "    x = Dropout(0.4)(x)\n",
    "    output_layer = Dense(num_classes, activation='softmax')(x)\n",
    "\n",
    "\n",
    "    # Create and compile the composite model\n",
    "    adam = optimizers.Adam(learning_rate=lr)\n",
    "    model = Model(inputs=input_layer, outputs=output_layer)\n",
    "    model.compile(loss='categorical_crossentropy', optimizer=adam, metrics=['accuracy'])\n",
    "\n",
    "    return model\n",
    "\n",
    "model2 = model2(input_shape, num_classes)\n",
    "\n",
    "# Print the model summary\n",
    "model2.summary()\n",
    "\n",
    "# define the callback\n",
    "callback2 = tf.keras.callbacks.EarlyStopping(monitor='loss',patience=3)\n",
    "\n",
    "history = None"
   ]
  },
  {
   "cell_type": "markdown",
   "metadata": {},
   "source": [
    "## Train"
   ]
  },
  {
   "cell_type": "code",
   "execution_count": null,
   "metadata": {},
   "outputs": [],
   "source": [
    "class_weights = compute_class_weight(class_weight = 'balanced', classes = np.unique(train_generator.classes), y = train_generator.classes)\n",
    "class_weight_dict = dict(enumerate(class_weights))\n",
    "print(class_weight_dict)"
   ]
  },
  {
   "cell_type": "code",
   "execution_count": 9,
   "metadata": {},
   "outputs": [
    {
     "name": "stdout",
     "output_type": "stream",
     "text": [
      "Epoch 1/100\n",
      "398/398 [==============================] - 36s 41ms/step - loss: 1.3502 - accuracy: 0.5039\n",
      "Epoch 2/100\n",
      "398/398 [==============================] - 16s 40ms/step - loss: 1.2179 - accuracy: 0.5459\n",
      "Epoch 3/100\n",
      "398/398 [==============================] - 16s 40ms/step - loss: 1.2019 - accuracy: 0.5563\n",
      "Epoch 4/100\n",
      "398/398 [==============================] - 16s 40ms/step - loss: 1.1905 - accuracy: 0.5589\n",
      "Epoch 5/100\n",
      "398/398 [==============================] - 16s 40ms/step - loss: 1.1855 - accuracy: 0.5626\n",
      "Epoch 6/100\n",
      "398/398 [==============================] - 16s 40ms/step - loss: 1.1631 - accuracy: 0.5695\n",
      "Epoch 7/100\n",
      "398/398 [==============================] - 16s 40ms/step - loss: 1.1662 - accuracy: 0.5651\n",
      "Epoch 8/100\n",
      "398/398 [==============================] - 16s 40ms/step - loss: 1.1508 - accuracy: 0.5747\n",
      "Epoch 9/100\n",
      "398/398 [==============================] - 16s 40ms/step - loss: 1.1468 - accuracy: 0.5785\n",
      "Epoch 10/100\n",
      "398/398 [==============================] - 16s 41ms/step - loss: 1.1378 - accuracy: 0.5808\n",
      "Epoch 11/100\n",
      "398/398 [==============================] - 17s 42ms/step - loss: 1.1273 - accuracy: 0.5835\n",
      "Epoch 12/100\n",
      "398/398 [==============================] - 17s 43ms/step - loss: 1.1132 - accuracy: 0.5881\n",
      "Epoch 13/100\n",
      "398/398 [==============================] - 17s 43ms/step - loss: 1.1098 - accuracy: 0.5893\n",
      "Epoch 14/100\n",
      "398/398 [==============================] - 144s 363ms/step - loss: 1.1088 - accuracy: 0.5879\n",
      "Epoch 15/100\n",
      "398/398 [==============================] - 211s 532ms/step - loss: 1.0894 - accuracy: 0.5925\n",
      "Epoch 16/100\n",
      "398/398 [==============================] - 21s 53ms/step - loss: 1.0868 - accuracy: 0.5937\n",
      "Epoch 17/100\n",
      "398/398 [==============================] - 16s 40ms/step - loss: 1.0864 - accuracy: 0.5977\n",
      "Epoch 18/100\n",
      "398/398 [==============================] - 17s 42ms/step - loss: 1.0800 - accuracy: 0.6000\n",
      "Epoch 19/100\n",
      "398/398 [==============================] - 16s 41ms/step - loss: 1.0753 - accuracy: 0.5967\n",
      "Epoch 20/100\n",
      "398/398 [==============================] - 41s 101ms/step - loss: 1.0674 - accuracy: 0.6052\n",
      "Epoch 21/100\n",
      "398/398 [==============================] - 16s 40ms/step - loss: 1.0565 - accuracy: 0.6060\n",
      "Epoch 22/100\n",
      "398/398 [==============================] - 16s 41ms/step - loss: 1.0566 - accuracy: 0.6021\n",
      "Epoch 23/100\n",
      "398/398 [==============================] - 84s 212ms/step - loss: 1.0446 - accuracy: 0.6063\n",
      "Epoch 24/100\n",
      "398/398 [==============================] - 31s 77ms/step - loss: 1.0406 - accuracy: 0.6073\n",
      "Epoch 25/100\n",
      "398/398 [==============================] - 280s 705ms/step - loss: 1.0326 - accuracy: 0.6115\n",
      "Epoch 26/100\n",
      "398/398 [==============================] - 21s 52ms/step - loss: 1.0192 - accuracy: 0.6128\n",
      "Epoch 27/100\n",
      "398/398 [==============================] - 21s 52ms/step - loss: 1.0195 - accuracy: 0.6170\n",
      "Epoch 28/100\n",
      "398/398 [==============================] - 136s 341ms/step - loss: 1.0210 - accuracy: 0.6222\n",
      "Epoch 29/100\n",
      "398/398 [==============================] - 101s 254ms/step - loss: 1.0073 - accuracy: 0.6207\n",
      "Epoch 30/100\n",
      "398/398 [==============================] - 240s 603ms/step - loss: 1.0201 - accuracy: 0.6161\n",
      "Epoch 31/100\n",
      "398/398 [==============================] - 325s 817ms/step - loss: 1.0023 - accuracy: 0.6131\n",
      "Epoch 32/100\n",
      "398/398 [==============================] - 207s 519ms/step - loss: 1.0064 - accuracy: 0.6284\n",
      "Epoch 33/100\n",
      "398/398 [==============================] - 279s 700ms/step - loss: 0.9921 - accuracy: 0.6246\n",
      "Epoch 34/100\n",
      "398/398 [==============================] - 216s 542ms/step - loss: 0.9878 - accuracy: 0.6266\n",
      "Epoch 35/100\n",
      "398/398 [==============================] - 16s 41ms/step - loss: 0.9791 - accuracy: 0.6301\n",
      "Epoch 36/100\n",
      "398/398 [==============================] - 23s 57ms/step - loss: 0.9844 - accuracy: 0.6257\n",
      "Epoch 37/100\n",
      "398/398 [==============================] - 16s 40ms/step - loss: 0.9685 - accuracy: 0.6377\n",
      "Epoch 38/100\n",
      "398/398 [==============================] - 27s 68ms/step - loss: 0.9609 - accuracy: 0.6386\n",
      "Epoch 39/100\n",
      "398/398 [==============================] - 17s 42ms/step - loss: 0.9554 - accuracy: 0.6350\n",
      "Epoch 40/100\n",
      "398/398 [==============================] - 24s 60ms/step - loss: 0.9545 - accuracy: 0.6405\n",
      "Epoch 41/100\n",
      "398/398 [==============================] - 48s 122ms/step - loss: 0.9519 - accuracy: 0.6372\n",
      "Epoch 42/100\n",
      "398/398 [==============================] - 25s 62ms/step - loss: 0.9316 - accuracy: 0.6447\n",
      "Epoch 43/100\n",
      "398/398 [==============================] - 16s 40ms/step - loss: 0.9424 - accuracy: 0.6414\n",
      "Epoch 44/100\n",
      "398/398 [==============================] - 50s 126ms/step - loss: 0.9441 - accuracy: 0.6450\n",
      "Epoch 45/100\n",
      "398/398 [==============================] - 207s 519ms/step - loss: 0.9240 - accuracy: 0.6457\n",
      "Epoch 46/100\n",
      "398/398 [==============================] - 16s 40ms/step - loss: 0.9159 - accuracy: 0.6550\n",
      "Epoch 47/100\n",
      "398/398 [==============================] - 16s 40ms/step - loss: 0.9199 - accuracy: 0.6480\n",
      "Epoch 48/100\n",
      "398/398 [==============================] - 19s 48ms/step - loss: 0.9056 - accuracy: 0.6537\n",
      "Epoch 49/100\n",
      "398/398 [==============================] - 156s 391ms/step - loss: 0.9088 - accuracy: 0.6528\n",
      "Epoch 50/100\n",
      "398/398 [==============================] - 17s 41ms/step - loss: 0.8912 - accuracy: 0.6559\n",
      "Epoch 51/100\n",
      "398/398 [==============================] - 16s 41ms/step - loss: 0.8820 - accuracy: 0.6685\n",
      "Epoch 52/100\n",
      "398/398 [==============================] - 49s 123ms/step - loss: 0.8737 - accuracy: 0.6589\n",
      "Epoch 53/100\n",
      "398/398 [==============================] - 769s 2s/step - loss: 0.8654 - accuracy: 0.6699\n",
      "Epoch 54/100\n",
      "398/398 [==============================] - 2894s 7s/step - loss: 0.8683 - accuracy: 0.6655\n",
      "Epoch 55/100\n",
      "398/398 [==============================] - 16s 40ms/step - loss: 0.8555 - accuracy: 0.6757\n",
      "Epoch 56/100\n",
      "398/398 [==============================] - 203s 510ms/step - loss: 0.8461 - accuracy: 0.6737\n",
      "Epoch 57/100\n",
      "398/398 [==============================] - 3057s 8s/step - loss: 0.8467 - accuracy: 0.6724\n",
      "Epoch 58/100\n",
      "398/398 [==============================] - 2542s 6s/step - loss: 0.8333 - accuracy: 0.6746\n",
      "Epoch 59/100\n",
      "100/398 [======>.......................] - ETA: 2:32:38 - loss: 0.8234 - accuracy: 0.6737"
     ]
    },
    {
     "ename": "",
     "evalue": "",
     "output_type": "error",
     "traceback": [
      "\u001b[1;31mSi è verificato un arresto anomalo del kernel durante l'esecuzione del codice nella cella attiva o in una cella precedente. Esaminare il codice nelle celle per identificare una possibile causa dell'errore. Per altre informazioni, fare clic su <a href='https://aka.ms/vscodeJupyterKernelCrash'>here</a>. Per altri dettagli, vedere Jupyter <a href='command:jupyter.viewOutput'>log</a>."
     ]
    }
   ],
   "source": [
    "%%time\n",
    "steps_per_epoch=train_generator.n//train_generator.batch_size\n",
    "val_steps=test_generator.n//test_generator.batch_size+1\n",
    "\n",
    "epochs = 100  # sets number of epochs\n",
    "\n",
    "h = model2.fit(train_generator, epochs=epochs, verbose=1,\\\n",
    "                    steps_per_epoch=steps_per_epoch,\\\n",
    "                    #class_weight=class_weight_dict,\\\n",
    "                    callbacks=[callback2]\n",
    "                    #validation_data=test_generator,\\\n",
    "                    #validation_steps=val_steps\n",
    "                    )\n",
    "\n",
    "\n",
    "# append current history\n",
    "if history is None:\n",
    "    history = h.history\n",
    "else:\n",
    "    history['loss'].extend(h.history['loss'])\n",
    "    history['accuracy'].extend(h.history['accuracy'])\n",
    "    #history['val_loss'].extend(h.history['val_loss'])\n",
    "    #history['val_accuracy'].extend(h.history['val_accuracy'])\n",
    "\n",
    "print(\"number of epochs trained: %d\" %len(history['loss']))\n"
   ]
  },
  {
   "cell_type": "markdown",
   "metadata": {},
   "source": [
    "## Evaluate"
   ]
  },
  {
   "cell_type": "code",
   "execution_count": 7,
   "metadata": {},
   "outputs": [
    {
     "name": "stdout",
     "output_type": "stream",
     "text": [
      "172\n",
      "172/172 [==============================] - 5s 21ms/step - loss: 3.3847 - accuracy: 0.4413\n",
      "172/172 [==============================] - 2s 10ms/step\n",
      "Test loss: 3.384658\n",
      "Test accuracy: 0.441251\n",
      "              precision    recall  f1-score   support\n",
      "\n",
      "           0     0.1550    0.5489    0.2417       133\n",
      "           1     0.2680    0.6764    0.3839       275\n",
      "           2     0.4003    0.7365    0.5186       406\n",
      "           3     0.8994    0.3444    0.4981      1896\n",
      "           4     0.0180    0.0513    0.0267        39\n",
      "\n",
      "    accuracy                         0.4413      2749\n",
      "   macro avg     0.3481    0.4715    0.3338      2749\n",
      "weighted avg     0.7140    0.4413    0.4706      2749\n",
      "\n"
     ]
    }
   ],
   "source": [
    "val_steps=test_generator.n//test_generator.batch_size+1\n",
    "print(val_steps)\n",
    "loss, acc = model2.evaluate(test_generator,verbose=1,steps=val_steps)\n",
    "pred = model2.predict(test_generator,verbose=1,steps=val_steps).argmax(axis=1)\n",
    "#print(pred)\n",
    "print('Test loss: %f' %loss)\n",
    "print('Test accuracy: %f' %acc)\n",
    "print(classification_report(test_generator.classes, pred, target_names=classnames,digits=4))"
   ]
  },
  {
   "cell_type": "code",
   "execution_count": 11,
   "metadata": {},
   "outputs": [
    {
     "data": {
      "image/png": "[encoded data removed]",
      "text/plain": [
       "<Figure size 640x480 with 2 Axes>"
      ]
     },
     "metadata": {},
     "output_type": "display_data"
    },
    {
     "name": "stdout",
     "output_type": "stream",
     "text": [
      "True                 Predicted         \terrors \terr % \n",
      "------------------------------------------------------------------\n",
      "3                ->  2                 \t294 \t10.69 % \n",
      "3                ->  1                 \t260 \t9.46 % \n",
      "3                ->  0                 \t159 \t5.78 % \n",
      "2                ->  3                 \t72 \t2.62 % \n",
      "1                ->  3                 \t60 \t2.18 % \n",
      "0                ->  3                 \t44 \t1.60 % \n",
      "2                ->  0                 \t30 \t1.09 % \n",
      "1                ->  0                 \t26 \t0.95 % \n",
      "3                ->  4                 \t22 \t0.80 % \n",
      "0                ->  1                 \t20 \t0.73 % \n",
      "2                ->  4                 \t20 \t0.73 % \n",
      "0                ->  2                 \t18 \t0.65 % \n",
      "1                ->  2                 \t17 \t0.62 % \n",
      "4                ->  3                 \t14 \t0.51 % \n",
      "4                ->  2                 \t13 \t0.47 % \n",
      "2                ->  1                 \t13 \t0.47 % \n",
      "4                ->  1                 \t6 \t0.22 % \n",
      "1                ->  4                 \t3 \t0.11 % \n",
      "4                ->  0                 \t3 \t0.11 % \n",
      "0                ->  4                 \t1 \t0.04 % \n"
     ]
    }
   ],
   "source": [
    "ytest = test_generator.classes\n",
    "cm = confusion_matrix(ytest, pred)\n",
    "disp = ConfusionMatrixDisplay(confusion_matrix=cm,display_labels=classnames)\n",
    "disp.plot(cmap=plt.cm.Blues)\n",
    "plt.show()\n",
    "\n",
    "\n",
    "conf = [] # data structure for confusions: list of (i,j,cm[i][j])\n",
    "for i in range(0,cm.shape[0]):\n",
    "  for j in range(0,cm.shape[1]):\n",
    "    if (i!=j and cm[i][j]>0):\n",
    "      conf.append([i,j,cm[i][j]])\n",
    "\n",
    "col=2\n",
    "conf = np.array(conf)\n",
    "conf = conf[np.argsort(-conf[:,col])]  # decreasing order by 3-rd column (i.e., cm[i][j])\n",
    "\n",
    "print('%-16s     %-16s  \\t%s \\t%s ' %('True','Predicted','errors','err %'))\n",
    "print('------------------------------------------------------------------')\n",
    "for k in conf:\n",
    "  print('%-16s ->  %-16s  \\t%d \\t%.2f %% ' %(classnames[k[0]],classnames[k[1]],k[2],k[2]*100.0/test_generator.n))"
   ]
  },
  {
   "cell_type": "code",
   "execution_count": 12,
   "metadata": {},
   "outputs": [
    {
     "name": "stdout",
     "output_type": "stream",
     "text": [
      "INFO:tensorflow:Assets written to: models/model250_epochs/assets\n"
     ]
    },
    {
     "name": "stderr",
     "output_type": "stream",
     "text": [
      "INFO:tensorflow:Assets written to: models/model250_epochs/assets\n"
     ]
    }
   ],
   "source": [
    "model2.save('models/model2' + str(len(history['loss'])) + '_epochs')"
   ]
  },
  {
   "cell_type": "code",
   "execution_count": null,
   "metadata": {},
   "outputs": [
    {
     "ename": "",
     "evalue": "",
     "output_type": "error",
     "traceback": [
      "\u001b[1;31mSi è verificato un arresto anomalo del kernel durante l'esecuzione del codice nella cella attiva o in una cella precedente. Esaminare il codice nelle celle per identificare una possibile causa dell'errore. Per altre informazioni, fare clic su <a href='https://aka.ms/vscodeJupyterKernelCrash'>here</a>. Per altri dettagli, vedere Jupyter <a href='command:jupyter.viewOutput'>log</a>."
     ]
    }
   ],
   "source": [
    "models_dir = 'models'\n",
    "modelname = 'composite_model_%d_epochs' %len(history['loss'])\n",
    "\n",
    "def savemodel(problem,model):\n",
    "    filename = os.path.join(models_dir, problem)\n",
    "    model.save(filename)\n",
    "    print(\"\\nModel saved successfully on file %s\\n\" %filename)\n",
    "    \n",
    "    \"\"\"\n",
    "    filename = os.path.join(models_dir, '%s_history.pkl' %problem)\n",
    "    with open(filename, 'wb') as f:\n",
    "        pickle.dump(history, f)\n",
    "    print(\"History saved successfully on file %s\\n\" %filename)\n",
    "    \"\"\"\n",
    "\n",
    "# Save model and history\n",
    "savemodel(modelname,composite_model)\n"
   ]
  }
 ],
 "metadata": {
  "kernelspec": {
   "display_name": "ML",
   "language": "python",
   "name": "python3"
  },
  "language_info": {
   "codemirror_mode": {
    "name": "ipython",
    "version": 3
   },
   "file_extension": ".py",
   "mimetype": "text/x-python",
   "name": "python",
   "nbconvert_exporter": "python",
   "pygments_lexer": "ipython3",
   "version": "3.10.12"
  }
 },
 "nbformat": 4,
 "nbformat_minor": 2
}
