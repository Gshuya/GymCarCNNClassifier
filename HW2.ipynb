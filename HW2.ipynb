{
 "cells": [
  {
   "cell_type": "markdown",
   "metadata": {},
   "source": [
    "# Import needed libraries"
   ]
  },
  {
   "cell_type": "code",
   "execution_count": 1,
   "metadata": {},
   "outputs": [
    {
     "name": "stderr",
     "output_type": "stream",
     "text": [
      "2023-12-18 23:09:04.684803: E external/local_xla/xla/stream_executor/cuda/cuda_dnn.cc:9261] Unable to register cuDNN factory: Attempting to register factory for plugin cuDNN when one has already been registered\n",
      "2023-12-18 23:09:04.684874: E external/local_xla/xla/stream_executor/cuda/cuda_fft.cc:607] Unable to register cuFFT factory: Attempting to register factory for plugin cuFFT when one has already been registered\n",
      "2023-12-18 23:09:04.748187: E external/local_xla/xla/stream_executor/cuda/cuda_blas.cc:1515] Unable to register cuBLAS factory: Attempting to register factory for plugin cuBLAS when one has already been registered\n",
      "2023-12-18 23:09:04.875884: I tensorflow/core/platform/cpu_feature_guard.cc:182] This TensorFlow binary is optimized to use available CPU instructions in performance-critical operations.\n",
      "To enable the following instructions: AVX2 FMA, in other operations, rebuild TensorFlow with the appropriate compiler flags.\n",
      "2023-12-18 23:09:06.458804: W tensorflow/compiler/tf2tensorrt/utils/py_utils.cc:38] TF-TRT Warning: Could not find TensorRT\n"
     ]
    }
   ],
   "source": [
    "import tensorflow as tf\n",
    "from tensorflow.keras.preprocessing.image import ImageDataGenerator\n",
    "from tensorflow.keras.models import Sequential\n",
    "from tensorflow.keras.layers import Dense, Activation, Dropout, Flatten,\\\n",
    "                         Conv2D, MaxPooling2D, BatchNormalization\n",
    "from tensorflow.keras import regularizers\n",
    "from tensorflow.keras import optimizers\n",
    "from sklearn.utils.class_weight import compute_class_weight\n",
    "import numpy as np\n",
    "import matplotlib.pyplot as plt\n",
    "import os\n",
    "import pickle"
   ]
  },
  {
   "cell_type": "code",
   "execution_count": 2,
   "metadata": {},
   "outputs": [
    {
     "name": "stdout",
     "output_type": "stream",
     "text": [
      "/device:GPU:0\n"
     ]
    },
    {
     "name": "stderr",
     "output_type": "stream",
     "text": [
      "2023-12-18 23:09:10.554442: I external/local_xla/xla/stream_executor/cuda/cuda_executor.cc:887] could not open file to read NUMA node: /sys/bus/pci/devices/0000:01:00.0/numa_node\n",
      "Your kernel may have been built without NUMA support.\n",
      "2023-12-18 23:09:10.794649: I external/local_xla/xla/stream_executor/cuda/cuda_executor.cc:887] could not open file to read NUMA node: /sys/bus/pci/devices/0000:01:00.0/numa_node\n",
      "Your kernel may have been built without NUMA support.\n",
      "2023-12-18 23:09:10.794750: I external/local_xla/xla/stream_executor/cuda/cuda_executor.cc:887] could not open file to read NUMA node: /sys/bus/pci/devices/0000:01:00.0/numa_node\n",
      "Your kernel may have been built without NUMA support.\n",
      "2023-12-18 23:09:13.615314: I external/local_xla/xla/stream_executor/cuda/cuda_executor.cc:887] could not open file to read NUMA node: /sys/bus/pci/devices/0000:01:00.0/numa_node\n",
      "Your kernel may have been built without NUMA support.\n",
      "2023-12-18 23:09:13.615446: I external/local_xla/xla/stream_executor/cuda/cuda_executor.cc:887] could not open file to read NUMA node: /sys/bus/pci/devices/0000:01:00.0/numa_node\n",
      "Your kernel may have been built without NUMA support.\n",
      "2023-12-18 23:09:13.615458: I tensorflow/core/common_runtime/gpu/gpu_device.cc:2022] Could not identify NUMA node of platform GPU id 0, defaulting to 0.  Your kernel may not have been built with NUMA support.\n",
      "2023-12-18 23:09:13.615512: I external/local_xla/xla/stream_executor/cuda/cuda_executor.cc:887] could not open file to read NUMA node: /sys/bus/pci/devices/0000:01:00.0/numa_node\n",
      "Your kernel may have been built without NUMA support.\n",
      "2023-12-18 23:09:13.615539: I tensorflow/core/common_runtime/gpu/gpu_device.cc:1929] Created device /device:GPU:0 with 1292 MB memory:  -> device: 0, name: NVIDIA GeForce MX150, pci bus id: 0000:01:00.0, compute capability: 6.1\n"
     ]
    }
   ],
   "source": [
    "device_name = tf.test.gpu_device_name()\n",
    "print(device_name)"
   ]
  },
  {
   "cell_type": "markdown",
   "metadata": {},
   "source": [
    "# Load Data"
   ]
  },
  {
   "cell_type": "code",
   "execution_count": 3,
   "metadata": {},
   "outputs": [
    {
     "name": "stdout",
     "output_type": "stream",
     "text": [
      "Found 6369 images belonging to 5 classes.\n",
      "Found 2749 images belonging to 5 classes.\n",
      "Image input (96, 96, 3)\n",
      "Classes: ['0', '1', '2', '3', '4']\n",
      "Loaded 6369 training samples from 5 classes.\n",
      "Loaded 2749 test samples from 5 classes.\n"
     ]
    }
   ],
   "source": [
    "trainingset = 'train'\n",
    "testset = 'test'\n",
    "\n",
    "batch_size = 16\n",
    "\"\"\"\n",
    "train_datagen = ImageDataGenerator(\n",
    "    rescale = 1. / 255,\\\n",
    "    zoom_range=0.3,\\\n",
    "    rotation_range=30,\\\n",
    "    width_shift_range=0.4,\\\n",
    "    height_shift_range=0.4,\\\n",
    "    horizontal_flip=True,\\\n",
    "    vertical_flip=False\n",
    "    )\n",
    "\"\"\"\n",
    "train_datagen = ImageDataGenerator(\n",
    "    rescale = 1. / 255)\n",
    "\n",
    "#Generate batches of image data and their corresponding labels from a directory structure\n",
    "train_generator = train_datagen.flow_from_directory(\n",
    "    directory=trainingset,\n",
    "    target_size=(96, 96),\n",
    "    color_mode=\"rgb\",\n",
    "    batch_size=batch_size,\n",
    "    class_mode=\"categorical\",\n",
    "    shuffle=True)\n",
    "\n",
    "test_datagen = ImageDataGenerator(\n",
    "    rescale = 1. / 255)\n",
    "\n",
    "test_generator = test_datagen.flow_from_directory(\n",
    "    directory=testset,\n",
    "    target_size=(96, 96),\n",
    "    color_mode=\"rgb\",\n",
    "    batch_size=batch_size,\n",
    "    class_mode=\"categorical\",\n",
    "    shuffle=False\n",
    ")\n",
    "\n",
    "num_samples = train_generator.n\n",
    "num_classes = train_generator.num_classes\n",
    "input_shape = train_generator.image_shape\n",
    "\n",
    "classnames = [k for k,v in train_generator.class_indices.items()]\n",
    "\n",
    "print(\"Image input %s\" %str(input_shape))\n",
    "print(\"Classes: %r\" %classnames)\n",
    "\n",
    "print('Loaded %d training samples from %d classes.' %(num_samples,num_classes))\n",
    "print('Loaded %d test samples from %d classes.' %(test_generator.n,test_generator.num_classes))\n"
   ]
  },
  {
   "cell_type": "markdown",
   "metadata": {},
   "source": [
    "## Data distribution"
   ]
  },
  {
   "cell_type": "code",
   "execution_count": 4,
   "metadata": {},
   "outputs": [
    {
     "data": {
      "image/png": "[encoded data removed]",
      "text/plain": [
       "<Figure size 640x480 with 1 Axes>"
      ]
     },
     "metadata": {},
     "output_type": "display_data"
    }
   ],
   "source": [
    "# Count the number of samples \n",
    "class_counts = {class_name: 0 for class_name in np.unique(train_generator.classes)}\n",
    "for label in train_generator.classes:\n",
    "    class_counts[label] += 1\n",
    "    if sum(class_counts.values()) >= num_samples:\n",
    "        break\n",
    "\n",
    "# Plot the distribution\n",
    "bars = plt.bar(class_counts.keys(), class_counts.values())\n",
    "plt.xlabel('Class')\n",
    "plt.ylabel('Number of Samples')\n",
    "plt.title('Distribution of Samples in Classes')\n",
    "for bar in bars:\n",
    "    yval = bar.get_height()\n",
    "    plt.text(bar.get_x()+0.2, yval + 25, yval,)\n",
    "plt.show()\n"
   ]
  },
  {
   "cell_type": "markdown",
   "metadata": {},
   "source": [
    "# I Model"
   ]
  },
  {
   "cell_type": "code",
   "execution_count": 5,
   "metadata": {},
   "outputs": [
    {
     "name": "stderr",
     "output_type": "stream",
     "text": [
      "2023-12-18 23:09:14.510711: I external/local_xla/xla/stream_executor/cuda/cuda_executor.cc:887] could not open file to read NUMA node: /sys/bus/pci/devices/0000:01:00.0/numa_node\n",
      "Your kernel may have been built without NUMA support.\n",
      "2023-12-18 23:09:14.510856: I external/local_xla/xla/stream_executor/cuda/cuda_executor.cc:887] could not open file to read NUMA node: /sys/bus/pci/devices/0000:01:00.0/numa_node\n",
      "Your kernel may have been built without NUMA support.\n",
      "2023-12-18 23:09:14.510902: I external/local_xla/xla/stream_executor/cuda/cuda_executor.cc:887] could not open file to read NUMA node: /sys/bus/pci/devices/0000:01:00.0/numa_node\n",
      "Your kernel may have been built without NUMA support.\n",
      "2023-12-18 23:09:14.511110: I external/local_xla/xla/stream_executor/cuda/cuda_executor.cc:887] could not open file to read NUMA node: /sys/bus/pci/devices/0000:01:00.0/numa_node\n",
      "Your kernel may have been built without NUMA support.\n",
      "2023-12-18 23:09:14.511178: I external/local_xla/xla/stream_executor/cuda/cuda_executor.cc:887] could not open file to read NUMA node: /sys/bus/pci/devices/0000:01:00.0/numa_node\n",
      "Your kernel may have been built without NUMA support.\n",
      "2023-12-18 23:09:14.511219: I external/local_xla/xla/stream_executor/cuda/cuda_executor.cc:887] could not open file to read NUMA node: /sys/bus/pci/devices/0000:01:00.0/numa_node\n",
      "Your kernel may have been built without NUMA support.\n",
      "2023-12-18 23:09:14.511480: I external/local_xla/xla/stream_executor/cuda/cuda_executor.cc:887] could not open file to read NUMA node: /sys/bus/pci/devices/0000:01:00.0/numa_node\n",
      "Your kernel may have been built without NUMA support.\n",
      "2023-12-18 23:09:14.511494: I tensorflow/core/common_runtime/gpu/gpu_device.cc:2022] Could not identify NUMA node of platform GPU id 0, defaulting to 0.  Your kernel may not have been built with NUMA support.\n",
      "2023-12-18 23:09:14.511537: I external/local_xla/xla/stream_executor/cuda/cuda_executor.cc:887] could not open file to read NUMA node: /sys/bus/pci/devices/0000:01:00.0/numa_node\n",
      "Your kernel may have been built without NUMA support.\n",
      "2023-12-18 23:09:14.511553: I tensorflow/core/common_runtime/gpu/gpu_device.cc:1929] Created device /job:localhost/replica:0/task:0/device:GPU:0 with 1292 MB memory:  -> device: 0, name: NVIDIA GeForce MX150, pci bus id: 0000:01:00.0, compute capability: 6.1\n"
     ]
    },
    {
     "name": "stdout",
     "output_type": "stream",
     "text": [
      "Model: \"sequential\"\n",
      "_________________________________________________________________\n",
      " Layer (type)                Output Shape              Param #   \n",
      "=================================================================\n",
      " conv2d (Conv2D)             (None, 92, 92, 6)         456       \n",
      "                                                                 \n",
      " activation (Activation)     (None, 92, 92, 6)         0         \n",
      "                                                                 \n",
      " max_pooling2d (MaxPooling2  (None, 46, 46, 6)         0         \n",
      " D)                                                              \n",
      "                                                                 \n",
      " batch_normalization (Batch  (None, 46, 46, 6)         24        \n",
      " Normalization)                                                  \n",
      "                                                                 \n",
      " conv2d_1 (Conv2D)           (None, 42, 42, 16)        2416      \n",
      "                                                                 \n",
      " activation_1 (Activation)   (None, 42, 42, 16)        0         \n",
      "                                                                 \n",
      " max_pooling2d_1 (MaxPoolin  (None, 21, 21, 16)        0         \n",
      " g2D)                                                            \n",
      "                                                                 \n",
      " batch_normalization_1 (Bat  (None, 21, 21, 16)        64        \n",
      " chNormalization)                                                \n",
      "                                                                 \n",
      " flatten (Flatten)           (None, 7056)              0         \n",
      "                                                                 \n",
      " dense (Dense)               (None, 120)               846840    \n",
      "                                                                 \n",
      " activation_2 (Activation)   (None, 120)               0         \n",
      "                                                                 \n",
      " dropout (Dropout)           (None, 120)               0         \n",
      "                                                                 \n",
      " batch_normalization_2 (Bat  (None, 120)               480       \n",
      " chNormalization)                                                \n",
      "                                                                 \n",
      " dense_1 (Dense)             (None, 5)                 605       \n",
      "                                                                 \n",
      " activation_3 (Activation)   (None, 5)                 0         \n",
      "                                                                 \n",
      "=================================================================\n",
      "Total params: 850885 (3.25 MB)\n",
      "Trainable params: 850601 (3.24 MB)\n",
      "Non-trainable params: 284 (1.11 KB)\n",
      "_________________________________________________________________\n"
     ]
    }
   ],
   "source": [
    "\n",
    "def Net(input_shape, num_classes, regl2 = 0.01, lr=0.001):\n",
    "\n",
    "    model = Sequential()\n",
    "\n",
    "    # C1 Convolutional Layer\n",
    "    model.add(Conv2D(filters=6, input_shape=input_shape, kernel_size=(5,5),\\\n",
    "                     strides=(1,1), padding='valid'))\n",
    "    model.add(Activation('relu'))\n",
    "    # Pooling\n",
    "    model.add(MaxPooling2D(pool_size=(2,2), strides=(2,2), padding='valid'))\n",
    "    # Batch Normalisation before passing it to the next layer\n",
    "    model.add(BatchNormalization())\n",
    "\n",
    "    # C2 Convolutional Layer\n",
    "    model.add(Conv2D(filters=16, kernel_size=(5,5), strides=(1,1), padding='valid'))\n",
    "    model.add(Activation('relu'))\n",
    "    # Pooling\n",
    "    model.add(MaxPooling2D(pool_size=(2,2), strides=(2,2), padding='valid'))\n",
    "    # Batch Normalisation\n",
    "    model.add(BatchNormalization())\n",
    "\n",
    "    # Flatten\n",
    "    model.add(Flatten())\n",
    "\n",
    "    flatten_shape = (input_shape[0]*input_shape[1]*input_shape[2],)\n",
    "\n",
    "    # D1 Dense Layer\n",
    "    model.add(Dense(120, input_shape=flatten_shape, kernel_regularizer=regularizers.l2(regl2)))\n",
    "    model.add(Activation('relu'))\n",
    "    # Dropout\n",
    "    model.add(Dropout(0.4))\n",
    "    # Batch Normalisation\n",
    "    model.add(BatchNormalization())\n",
    "\n",
    "    # Output Layer\n",
    "    model.add(Dense(num_classes))\n",
    "    model.add(Activation('softmax'))\n",
    "\n",
    "    # Compile\n",
    "\n",
    "    adam = optimizers.Adam(learning_rate=lr)\n",
    "    model.compile(loss='categorical_crossentropy', optimizer=adam, metrics=['accuracy'])\n",
    "\n",
    "    return model\n",
    "\n",
    "# create the model\n",
    "model = Net(input_shape,num_classes)\n",
    "model.summary()\n",
    "\n",
    "# history of results (set to None when initializing a new mdoel)\n",
    "history = None\n"
   ]
  },
  {
   "cell_type": "markdown",
   "metadata": {},
   "source": [
    "## Train"
   ]
  },
  {
   "cell_type": "code",
   "execution_count": 6,
   "metadata": {},
   "outputs": [
    {
     "name": "stdout",
     "output_type": "stream",
     "text": [
      "{0: 1.2738, 1: 0.8492, 2: 0.8492, 3: 0.6369, 4: 3.4520325203252034}\n"
     ]
    }
   ],
   "source": [
    "class_weights = compute_class_weight(class_weight = 'balanced', classes = np.unique(train_generator.classes), y = train_generator.classes)\n",
    "class_weight_dict = dict(enumerate(class_weights))\n",
    "print(class_weight_dict)"
   ]
  },
  {
   "cell_type": "code",
   "execution_count": 7,
   "metadata": {},
   "outputs": [
    {
     "name": "stdout",
     "output_type": "stream",
     "text": [
      "Epoch 1/20\n"
     ]
    },
    {
     "name": "stderr",
     "output_type": "stream",
     "text": [
      "2023-12-18 23:09:18.349254: I external/local_xla/xla/stream_executor/cuda/cuda_dnn.cc:454] Loaded cuDNN version 8902\n",
      "2023-12-18 23:09:21.390107: I external/local_tsl/tsl/platform/default/subprocess.cc:304] Start cannot spawn child process: No such file or directory\n",
      "2023-12-18 23:09:22.759845: I external/local_tsl/tsl/platform/default/subprocess.cc:304] Start cannot spawn child process: No such file or directory\n",
      "2023-12-18 23:09:23.918356: I external/local_xla/xla/service/service.cc:168] XLA service 0x7ff9f402aa70 initialized for platform CUDA (this does not guarantee that XLA will be used). Devices:\n",
      "2023-12-18 23:09:23.918445: I external/local_xla/xla/service/service.cc:176]   StreamExecutor device (0): NVIDIA GeForce MX150, Compute Capability 6.1\n",
      "2023-12-18 23:09:23.996212: I tensorflow/compiler/mlir/tensorflow/utils/dump_mlir_util.cc:269] disabling MLIR crash reproducer, set env var `MLIR_CRASH_REPRODUCER_DIRECTORY` to enable.\n",
      "WARNING: All log messages before absl::InitializeLog() is called are written to STDERR\n",
      "I0000 00:00:1702937364.176204    2686 device_compiler.h:186] Compiled cluster using XLA!  This line is logged at most once for the lifetime of the process.\n"
     ]
    },
    {
     "name": "stdout",
     "output_type": "stream",
     "text": [
      "398/398 [==============================] - 22s 26ms/step - loss: 2.1760 - accuracy: 0.5029 - val_loss: 1.7881 - val_accuracy: 0.5227\n",
      "Epoch 2/20\n",
      "398/398 [==============================] - 8s 20ms/step - loss: 1.6809 - accuracy: 0.5457 - val_loss: 1.4803 - val_accuracy: 0.6701\n",
      "Epoch 3/20\n",
      "398/398 [==============================] - 8s 21ms/step - loss: 1.8728 - accuracy: 0.5459 - val_loss: 1.7996 - val_accuracy: 0.5344\n",
      "Epoch 4/20\n",
      "398/398 [==============================] - 9s 21ms/step - loss: 1.5692 - accuracy: 0.5582 - val_loss: 1.3011 - val_accuracy: 0.6493\n",
      "Epoch 5/20\n",
      "398/398 [==============================] - 9s 22ms/step - loss: 1.6322 - accuracy: 0.5682 - val_loss: 1.4812 - val_accuracy: 0.6428\n",
      "Epoch 6/20\n",
      "398/398 [==============================] - 9s 22ms/step - loss: 1.5773 - accuracy: 0.5657 - val_loss: 1.3286 - val_accuracy: 0.6715\n",
      "Epoch 7/20\n",
      "398/398 [==============================] - 9s 22ms/step - loss: 1.5283 - accuracy: 0.5652 - val_loss: 1.4115 - val_accuracy: 0.5962\n",
      "Epoch 8/20\n",
      "398/398 [==============================] - 9s 22ms/step - loss: 1.6547 - accuracy: 0.5624 - val_loss: 1.8846 - val_accuracy: 0.6002\n",
      "Epoch 9/20\n",
      "398/398 [==============================] - 9s 23ms/step - loss: 1.5227 - accuracy: 0.5657 - val_loss: 1.6377 - val_accuracy: 0.4529\n",
      "Epoch 10/20\n",
      "398/398 [==============================] - 9s 24ms/step - loss: 1.5145 - accuracy: 0.5660 - val_loss: 1.5786 - val_accuracy: 0.5093\n",
      "Epoch 11/20\n",
      "398/398 [==============================] - 10s 25ms/step - loss: 1.4818 - accuracy: 0.5747 - val_loss: 35.1883 - val_accuracy: 0.6722\n",
      "Epoch 12/20\n",
      "398/398 [==============================] - 9s 23ms/step - loss: 1.5469 - accuracy: 0.5684 - val_loss: 1.5600 - val_accuracy: 0.5649\n",
      "Epoch 13/20\n",
      "398/398 [==============================] - 10s 26ms/step - loss: 1.4993 - accuracy: 0.5686 - val_loss: 1.5198 - val_accuracy: 0.6028\n",
      "Epoch 14/20\n",
      "398/398 [==============================] - 9s 24ms/step - loss: 1.4945 - accuracy: 0.5791 - val_loss: 1.6760 - val_accuracy: 0.3983\n",
      "Epoch 15/20\n",
      "398/398 [==============================] - 9s 23ms/step - loss: 1.4497 - accuracy: 0.5788 - val_loss: 1.4038 - val_accuracy: 0.5933\n",
      "Epoch 16/20\n",
      "398/398 [==============================] - 9s 24ms/step - loss: 1.4224 - accuracy: 0.5788 - val_loss: 1.3812 - val_accuracy: 0.5886\n",
      "Epoch 17/20\n",
      "398/398 [==============================] - 9s 23ms/step - loss: 1.4156 - accuracy: 0.5802 - val_loss: 1.3737 - val_accuracy: 0.5897\n",
      "Epoch 18/20\n",
      "398/398 [==============================] - 10s 24ms/step - loss: 1.3805 - accuracy: 0.5840 - val_loss: 1.1658 - val_accuracy: 0.7021\n",
      "Epoch 19/20\n",
      "398/398 [==============================] - 10s 24ms/step - loss: 1.3882 - accuracy: 0.5857 - val_loss: 19.1297 - val_accuracy: 0.6897\n",
      "Epoch 20/20\n",
      "398/398 [==============================] - 10s 24ms/step - loss: 1.4961 - accuracy: 0.5772 - val_loss: 1.4438 - val_accuracy: 0.6555\n"
     ]
    }
   ],
   "source": [
    "steps_per_epoch=train_generator.n//train_generator.batch_size\n",
    "val_steps=test_generator.n//test_generator.batch_size+1\n",
    "\n",
    "epochs = 20  # sets number of epochs\n",
    "\n",
    "try:\n",
    "    h = model.fit(train_generator, epochs=epochs, verbose=1,\\\n",
    "                    steps_per_epoch=steps_per_epoch,\\\n",
    "                    #class_weight=class_weight_dict,\\\n",
    "                    validation_data=test_generator,\\\n",
    "                    validation_steps=val_steps\n",
    "                    ) # validation set????\n",
    "except KeyboardInterrupt:\n",
    "    pass\n",
    "\n",
    "# append current history\n",
    "\n",
    "if history is None:\n",
    "    history = h.history\n",
    "else:\n",
    "    history['loss'].extend(h.history['loss'])\n",
    "    history['accuracy'].extend(h.history['accuracy'])\n",
    "    history['val_loss'].extend(h.history['val_loss'])\n",
    "    history['val_accuracy'].extend(h.history['val_accuracy'])"
   ]
  },
  {
   "cell_type": "code",
   "execution_count": 11,
   "metadata": {},
   "outputs": [
    {
     "data": {
      "image/png": "[encoded data removed]",
      "text/plain": [
       "<Figure size 640x480 with 1 Axes>"
      ]
     },
     "metadata": {},
     "output_type": "display_data"
    },
    {
     "data": {
      "image/png": "[encoded data removed]",
      "text/plain": [
       "<Figure size 640x480 with 1 Axes>"
      ]
     },
     "metadata": {},
     "output_type": "display_data"
    }
   ],
   "source": [
    "# summarize history for accuracy\n",
    "plt.plot(history['accuracy'])\n",
    "plt.plot(history['val_accuracy'])\n",
    "plt.title('model accuracy')\n",
    "plt.ylabel('accuracy')\n",
    "plt.xlabel('epoch')\n",
    "plt.legend(['train', 'test'], loc='upper left')\n",
    "plt.show()\n",
    "# summarize history for loss\n",
    "plt.plot(history['loss'])\n",
    "plt.plot(history['val_loss'])\n",
    "plt.title('model loss')\n",
    "plt.ylabel('loss')\n",
    "plt.xlabel('epoch')\n",
    "plt.legend(['train', 'test'], loc='upper left') #label of line\n",
    "plt.show()"
   ]
  },
  {
   "cell_type": "markdown",
   "metadata": {},
   "source": [
    "## Save model"
   ]
  },
  {
   "cell_type": "code",
   "execution_count": 9,
   "metadata": {},
   "outputs": [
    {
     "name": "stderr",
     "output_type": "stream",
     "text": [
      "/home/gioia/.local/lib/python3.10/site-packages/keras/src/engine/training.py:3103: UserWarning: You are saving your model as an HDF5 file via `model.save()`. This file format is considered legacy. We recommend using instead the native Keras format, e.g. `model.save('my_model.keras')`.\n",
      "  saving_api.save_model(\n"
     ]
    },
    {
     "name": "stdout",
     "output_type": "stream",
     "text": [
      "\n",
      "Model saved successfully on file models/model1_20_epochs.h5\n",
      "\n",
      "History saved successfully on file models/model1_20_epochs_history.pkl\n",
      "\n"
     ]
    }
   ],
   "source": [
    "models_dir = 'models'\n",
    "modelname = 'model1_%d_epochs' %len(history['loss'])\n",
    "\n",
    "def savemodel(problem,model,history):\n",
    "    filename = os.path.join(models_dir, '%s.h5' %problem)\n",
    "    model.save(filename)\n",
    "    print(\"\\nModel saved successfully on file %s\\n\" %filename)\n",
    "    filename = os.path.join(models_dir, '%s_history.pkl' %problem)\n",
    "    with open(filename, 'wb') as f:\n",
    "        pickle.dump(history, f)\n",
    "    print(\"History saved successfully on file %s\\n\" %filename)\n",
    "\n",
    "# Save model and history\n",
    "savemodel(modelname,model,model.history)\n"
   ]
  },
  {
   "cell_type": "markdown",
   "metadata": {},
   "source": [
    "## Evaluate"
   ]
  },
  {
   "cell_type": "code",
   "execution_count": 10,
   "metadata": {},
   "outputs": [
    {
     "name": "stdout",
     "output_type": "stream",
     "text": [
      "Found 2749 images belonging to 5 classes.\n",
      "172/172 [==============================] - 2s 11ms/step - loss: 1.4438 - accuracy: 0.6555\n",
      "172/172 [==============================] - 2s 10ms/step\n",
      "[3 3 3 ... 2 2 2]\n",
      "Test loss: 1.443784\n",
      "Test accuracy: 0.655511\n"
     ]
    }
   ],
   "source": [
    "test_generator = test_datagen.flow_from_directory(\n",
    "    directory=testset,\n",
    "    target_size=(96, 96),\n",
    "    color_mode=\"rgb\",\n",
    "    batch_size=batch_size,\n",
    "    class_mode=\"categorical\",\n",
    "    shuffle=False\n",
    ")\n",
    "val_steps=test_generator.n//test_generator.batch_size+1\n",
    "loss, acc = model.evaluate(test_generator,verbose=1,steps=val_steps)\n",
    "print(model.predict(test_generator,verbose=1,steps=val_steps).argmax(axis=1))\n",
    "print('Test loss: %f' %loss)\n",
    "print('Test accuracy: %f' %acc)\n",
    "\n"
   ]
  },
  {
   "cell_type": "markdown",
   "metadata": {},
   "source": [
    "## Find the optimal number of epoches"
   ]
  },
  {
   "cell_type": "markdown",
   "metadata": {},
   "source": [
    "# Model with feature extraction"
   ]
  },
  {
   "cell_type": "code",
   "execution_count": null,
   "metadata": {},
   "outputs": [],
   "source": []
  },
  {
   "cell_type": "markdown",
   "metadata": {},
   "source": [
    "## Feature Extraction"
   ]
  },
  {
   "cell_type": "code",
   "execution_count": null,
   "metadata": {},
   "outputs": [],
   "source": []
  },
  {
   "cell_type": "markdown",
   "metadata": {},
   "source": [
    "## Classifier"
   ]
  }
 ],
 "metadata": {
  "kernelspec": {
   "display_name": "ML",
   "language": "python",
   "name": "python3"
  },
  "language_info": {
   "codemirror_mode": {
    "name": "ipython",
    "version": 3
   },
   "file_extension": ".py",
   "mimetype": "text/x-python",
   "name": "python",
   "nbconvert_exporter": "python",
   "pygments_lexer": "ipython3",
   "version": "3.10.12"
  }
 },
 "nbformat": 4,
 "nbformat_minor": 2
}
