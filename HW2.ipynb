{
 "cells": [
  {
   "cell_type": "markdown",
   "metadata": {},
   "source": [
    "# Import needed libraries"
   ]
  },
  {
   "cell_type": "code",
   "execution_count": 2,
   "metadata": {},
   "outputs": [
    {
     "name": "stderr",
     "output_type": "stream",
     "text": [
      "2023-12-29 00:24:47.582459: E external/local_xla/xla/stream_executor/cuda/cuda_dnn.cc:9261] Unable to register cuDNN factory: Attempting to register factory for plugin cuDNN when one has already been registered\n",
      "2023-12-29 00:24:47.582614: E external/local_xla/xla/stream_executor/cuda/cuda_fft.cc:607] Unable to register cuFFT factory: Attempting to register factory for plugin cuFFT when one has already been registered\n",
      "2023-12-29 00:24:47.665371: E external/local_xla/xla/stream_executor/cuda/cuda_blas.cc:1515] Unable to register cuBLAS factory: Attempting to register factory for plugin cuBLAS when one has already been registered\n",
      "2023-12-29 00:24:47.850783: I tensorflow/core/platform/cpu_feature_guard.cc:182] This TensorFlow binary is optimized to use available CPU instructions in performance-critical operations.\n",
      "To enable the following instructions: AVX2 FMA, in other operations, rebuild TensorFlow with the appropriate compiler flags.\n",
      "2023-12-29 00:24:50.458405: W tensorflow/compiler/tf2tensorrt/utils/py_utils.cc:38] TF-TRT Warning: Could not find TensorRT\n"
     ]
    }
   ],
   "source": [
    "import tensorflow as tf\n",
    "from tensorflow.keras.preprocessing.image import ImageDataGenerator\n",
    "from tensorflow.keras.models import Sequential, Model\n",
    "from tensorflow.keras.layers import Input, Dense, Activation, Dropout, Flatten,\\\n",
    "                         Conv2D, MaxPooling2D, BatchNormalization, concatenate, Cropping2D\n",
    "from tensorflow.keras import regularizers\n",
    "from tensorflow.keras import optimizers\n",
    "from sklearn.metrics import classification_report, confusion_matrix,ConfusionMatrixDisplay\n",
    "from sklearn.utils.class_weight import compute_class_weight\n",
    "import numpy as np\n",
    "import matplotlib.pyplot as plt\n",
    "import os\n",
    "import pickle\n",
    "import time"
   ]
  },
  {
   "cell_type": "code",
   "execution_count": 3,
   "metadata": {},
   "outputs": [
    {
     "name": "stdout",
     "output_type": "stream",
     "text": [
      "/device:GPU:0\n"
     ]
    },
    {
     "name": "stderr",
     "output_type": "stream",
     "text": [
      "2023-12-29 00:24:56.690599: I external/local_xla/xla/stream_executor/cuda/cuda_executor.cc:887] could not open file to read NUMA node: /sys/bus/pci/devices/0000:01:00.0/numa_node\n",
      "Your kernel may have been built without NUMA support.\n",
      "2023-12-29 00:24:56.992275: I external/local_xla/xla/stream_executor/cuda/cuda_executor.cc:887] could not open file to read NUMA node: /sys/bus/pci/devices/0000:01:00.0/numa_node\n",
      "Your kernel may have been built without NUMA support.\n",
      "2023-12-29 00:24:56.992433: I external/local_xla/xla/stream_executor/cuda/cuda_executor.cc:887] could not open file to read NUMA node: /sys/bus/pci/devices/0000:01:00.0/numa_node\n",
      "Your kernel may have been built without NUMA support.\n",
      "2023-12-29 00:25:00.189708: I external/local_xla/xla/stream_executor/cuda/cuda_executor.cc:887] could not open file to read NUMA node: /sys/bus/pci/devices/0000:01:00.0/numa_node\n",
      "Your kernel may have been built without NUMA support.\n",
      "2023-12-29 00:25:00.189788: I external/local_xla/xla/stream_executor/cuda/cuda_executor.cc:887] could not open file to read NUMA node: /sys/bus/pci/devices/0000:01:00.0/numa_node\n",
      "Your kernel may have been built without NUMA support.\n",
      "2023-12-29 00:25:00.189800: I tensorflow/core/common_runtime/gpu/gpu_device.cc:2022] Could not identify NUMA node of platform GPU id 0, defaulting to 0.  Your kernel may not have been built with NUMA support.\n",
      "2023-12-29 00:25:00.189855: I external/local_xla/xla/stream_executor/cuda/cuda_executor.cc:887] could not open file to read NUMA node: /sys/bus/pci/devices/0000:01:00.0/numa_node\n",
      "Your kernel may have been built without NUMA support.\n",
      "2023-12-29 00:25:00.189876: I tensorflow/core/common_runtime/gpu/gpu_device.cc:1929] Created device /device:GPU:0 with 1292 MB memory:  -> device: 0, name: NVIDIA GeForce MX150, pci bus id: 0000:01:00.0, compute capability: 6.1\n"
     ]
    }
   ],
   "source": [
    "device_name = tf.test.gpu_device_name()\n",
    "print(device_name)"
   ]
  },
  {
   "cell_type": "markdown",
   "metadata": {},
   "source": [
    "# Load Data"
   ]
  },
  {
   "cell_type": "code",
   "execution_count": 4,
   "metadata": {},
   "outputs": [
    {
     "name": "stdout",
     "output_type": "stream",
     "text": [
      "Found 6369 images belonging to 5 classes.\n",
      "Found 2749 images belonging to 5 classes.\n",
      "Image input (96, 96, 3)\n",
      "Classes: ['0', '1', '2', '3', '4']\n",
      "Loaded 6369 training samples from 5 classes.\n",
      "Loaded 2749 test samples from 5 classes.\n"
     ]
    }
   ],
   "source": [
    "trainingset = 'train'\n",
    "testset = 'test'\n",
    "\n",
    "batch_size = 16\n",
    "\n",
    "\"\"\"\n",
    "train_datagen = ImageDataGenerator(\n",
    "    rescale = 1. / 255,\\\n",
    "    zoom_range=0.3,\\\n",
    "    rotation_range=30,\\\n",
    "    width_shift_range=0.4,\\\n",
    "    height_shift_range=0.4,\\\n",
    "    horizontal_flip=True,\\\n",
    "    vertical_flip=False\n",
    "    )\n",
    "\"\"\"\n",
    "train_datagen = ImageDataGenerator()\n",
    "\n",
    "#Generate batches of image data and their corresponding labels from a directory structure\n",
    "train_generator = train_datagen.flow_from_directory(\n",
    "    directory=trainingset,\n",
    "    target_size=(96, 96),\n",
    "    color_mode=\"rgb\",\n",
    "    batch_size=batch_size,\n",
    "    class_mode=\"categorical\",\n",
    "    shuffle=True)\n",
    "\n",
    "test_datagen = ImageDataGenerator()\n",
    "\n",
    "test_generator = test_datagen.flow_from_directory(\n",
    "    directory=testset,\n",
    "    target_size=(96, 96),\n",
    "    color_mode=\"rgb\",\n",
    "    batch_size=batch_size,\n",
    "    class_mode=\"categorical\",\n",
    "    shuffle=False\n",
    ")\n",
    "\n",
    "num_samples = train_generator.n\n",
    "num_classes = train_generator.num_classes\n",
    "input_shape = train_generator.image_shape\n",
    "\n",
    "classnames = [k for k,v in train_generator.class_indices.items()]\n",
    "\n",
    "print(\"Image input %s\" %str(input_shape))\n",
    "print(\"Classes: %r\" %classnames)\n",
    "\n",
    "print('Loaded %d training samples from %d classes.' %(num_samples,num_classes))\n",
    "print('Loaded %d test samples from %d classes.' %(test_generator.n,test_generator.num_classes))\n"
   ]
  },
  {
   "cell_type": "markdown",
   "metadata": {},
   "source": [
    "## Data distribution"
   ]
  },
  {
   "cell_type": "code",
   "execution_count": 5,
   "metadata": {},
   "outputs": [
    {
     "data": {
      "image/png": "[encoded data removed]",
      "text/plain": [
       "<Figure size 640x480 with 1 Axes>"
      ]
     },
     "metadata": {},
     "output_type": "display_data"
    }
   ],
   "source": [
    "# Count the number of samples \n",
    "class_counts = {class_name: 0 for class_name in np.unique(train_generator.classes)}\n",
    "for label in train_generator.classes:\n",
    "    class_counts[label] += 1\n",
    "    if sum(class_counts.values()) >= num_samples:\n",
    "        break\n",
    "\n",
    "# Plot the distribution\n",
    "bars = plt.bar(class_counts.keys(), class_counts.values())\n",
    "plt.xlabel('Class')\n",
    "plt.ylabel('Number of Samples')\n",
    "plt.title('Distribution of Samples in Classes')\n",
    "for bar in bars:\n",
    "    yval = bar.get_height()\n",
    "    plt.text(bar.get_x()+0.2, yval + 25, yval,)\n",
    "plt.show()\n"
   ]
  },
  {
   "cell_type": "markdown",
   "metadata": {},
   "source": [
    "# Model I"
   ]
  },
  {
   "cell_type": "code",
   "execution_count": 5,
   "metadata": {},
   "outputs": [
    {
     "name": "stderr",
     "output_type": "stream",
     "text": [
      "2023-12-28 06:58:35.007744: I external/local_xla/xla/stream_executor/cuda/cuda_executor.cc:887] could not open file to read NUMA node: /sys/bus/pci/devices/0000:01:00.0/numa_node\n",
      "Your kernel may have been built without NUMA support.\n",
      "2023-12-28 06:58:35.007993: I external/local_xla/xla/stream_executor/cuda/cuda_executor.cc:887] could not open file to read NUMA node: /sys/bus/pci/devices/0000:01:00.0/numa_node\n",
      "Your kernel may have been built without NUMA support.\n",
      "2023-12-28 06:58:35.008109: I external/local_xla/xla/stream_executor/cuda/cuda_executor.cc:887] could not open file to read NUMA node: /sys/bus/pci/devices/0000:01:00.0/numa_node\n",
      "Your kernel may have been built without NUMA support.\n",
      "2023-12-28 06:58:35.008639: I external/local_xla/xla/stream_executor/cuda/cuda_executor.cc:887] could not open file to read NUMA node: /sys/bus/pci/devices/0000:01:00.0/numa_node\n",
      "Your kernel may have been built without NUMA support.\n",
      "2023-12-28 06:58:35.008704: I external/local_xla/xla/stream_executor/cuda/cuda_executor.cc:887] could not open file to read NUMA node: /sys/bus/pci/devices/0000:01:00.0/numa_node\n",
      "Your kernel may have been built without NUMA support.\n",
      "2023-12-28 06:58:35.008754: I external/local_xla/xla/stream_executor/cuda/cuda_executor.cc:887] could not open file to read NUMA node: /sys/bus/pci/devices/0000:01:00.0/numa_node\n",
      "Your kernel may have been built without NUMA support.\n",
      "2023-12-28 06:58:35.009104: I external/local_xla/xla/stream_executor/cuda/cuda_executor.cc:887] could not open file to read NUMA node: /sys/bus/pci/devices/0000:01:00.0/numa_node\n",
      "Your kernel may have been built without NUMA support.\n",
      "2023-12-28 06:58:35.009123: I tensorflow/core/common_runtime/gpu/gpu_device.cc:2022] Could not identify NUMA node of platform GPU id 0, defaulting to 0.  Your kernel may not have been built with NUMA support.\n",
      "2023-12-28 06:58:35.009184: I external/local_xla/xla/stream_executor/cuda/cuda_executor.cc:887] could not open file to read NUMA node: /sys/bus/pci/devices/0000:01:00.0/numa_node\n",
      "Your kernel may have been built without NUMA support.\n",
      "2023-12-28 06:58:35.009207: I tensorflow/core/common_runtime/gpu/gpu_device.cc:1929] Created device /job:localhost/replica:0/task:0/device:GPU:0 with 1292 MB memory:  -> device: 0, name: NVIDIA GeForce MX150, pci bus id: 0000:01:00.0, compute capability: 6.1\n"
     ]
    },
    {
     "name": "stdout",
     "output_type": "stream",
     "text": [
      "Model: \"sequential\"\n",
      "_________________________________________________________________\n",
      " Layer (type)                Output Shape              Param #   \n",
      "=================================================================\n",
      " conv2d (Conv2D)             (None, 92, 92, 32)        2432      \n",
      "                                                                 \n",
      " activation (Activation)     (None, 92, 92, 32)        0         \n",
      "                                                                 \n",
      " max_pooling2d (MaxPooling2  (None, 46, 46, 32)        0         \n",
      " D)                                                              \n",
      "                                                                 \n",
      " batch_normalization (Batch  (None, 46, 46, 32)        128       \n",
      " Normalization)                                                  \n",
      "                                                                 \n",
      " conv2d_1 (Conv2D)           (None, 44, 44, 64)        18496     \n",
      "                                                                 \n",
      " activation_1 (Activation)   (None, 44, 44, 64)        0         \n",
      "                                                                 \n",
      " max_pooling2d_1 (MaxPoolin  (None, 22, 22, 64)        0         \n",
      " g2D)                                                            \n",
      "                                                                 \n",
      " batch_normalization_1 (Bat  (None, 22, 22, 64)        256       \n",
      " chNormalization)                                                \n",
      "                                                                 \n",
      " flatten (Flatten)           (None, 30976)             0         \n",
      "                                                                 \n",
      " dense (Dense)               (None, 128)               3965056   \n",
      "                                                                 \n",
      " activation_2 (Activation)   (None, 128)               0         \n",
      "                                                                 \n",
      " dropout (Dropout)           (None, 128)               0         \n",
      "                                                                 \n",
      " batch_normalization_2 (Bat  (None, 128)               512       \n",
      " chNormalization)                                                \n",
      "                                                                 \n",
      " dense_1 (Dense)             (None, 5)                 645       \n",
      "                                                                 \n",
      " activation_3 (Activation)   (None, 5)                 0         \n",
      "                                                                 \n",
      "=================================================================\n",
      "Total params: 3987525 (15.21 MB)\n",
      "Trainable params: 3987077 (15.21 MB)\n",
      "Non-trainable params: 448 (1.75 KB)\n",
      "_________________________________________________________________\n"
     ]
    }
   ],
   "source": [
    "\n",
    "def ModelI(input_shape, num_classes, regl2 = 0.01, lr=0.001):\n",
    "\n",
    "    model = Sequential()\n",
    "\n",
    "    # C1 Convolutional Layer\n",
    "    model.add(Conv2D(filters=32, input_shape=input_shape, kernel_size=(5,5),\\\n",
    "                     strides=(1,1), padding='valid'))\n",
    "    model.add(Activation('relu'))\n",
    "    # Pooling\n",
    "    model.add(MaxPooling2D(pool_size=(2,2), strides=(2,2), padding='valid'))\n",
    "    # Batch Normalisation before passing it to the next layer\n",
    "    model.add(BatchNormalization())\n",
    "\n",
    "    # C2 Convolutional Layer\n",
    "    model.add(Conv2D(filters=64, kernel_size=(3,3), strides=(1,1), padding='valid'))\n",
    "    model.add(Activation('relu'))\n",
    "    # Pooling\n",
    "    model.add(MaxPooling2D(pool_size=(2,2), strides=(2,2), padding='valid'))\n",
    "    # Batch Normalisation\n",
    "    model.add(BatchNormalization())\n",
    "\n",
    "    # Flatten\n",
    "    model.add(Flatten())\n",
    "\n",
    "    flatten_shape = (input_shape[0]*input_shape[1]*input_shape[2],)\n",
    "\n",
    "    # Dense Layer\n",
    "    model.add(Dense(128, input_shape=flatten_shape, kernel_regularizer=regularizers.l2(regl2)))\n",
    "    model.add(Activation('relu'))\n",
    "    # Dropout\n",
    "    model.add(Dropout(0.4))\n",
    "    # Batch Normalisation\n",
    "    model.add(BatchNormalization())\n",
    "\n",
    "    # Output Layer\n",
    "    model.add(Dense(num_classes))\n",
    "    model.add(Activation('softmax'))\n",
    "\n",
    "    # Compile\n",
    "    adam = optimizers.Adam(learning_rate=lr)\n",
    "    model.compile(loss='categorical_crossentropy', optimizer=adam, metrics=['accuracy'])\n",
    "\n",
    "    return model\n",
    "\n",
    "# create the model\n",
    "model1 = ModelI(input_shape,num_classes)\n",
    "model1.summary()\n",
    "\n",
    "# define the callback\n",
    "callback1 = tf.keras.callbacks.EarlyStopping(monitor='loss',patience=5)\n",
    "\n",
    "# history of results (set to None when initializing a new mdoel)\n",
    "history = None\n"
   ]
  },
  {
   "cell_type": "markdown",
   "metadata": {},
   "source": [
    "## Train"
   ]
  },
  {
   "cell_type": "code",
   "execution_count": 6,
   "metadata": {},
   "outputs": [
    {
     "name": "stdout",
     "output_type": "stream",
     "text": [
      "{0: 1.2738, 1: 0.8492, 2: 0.8492, 3: 0.6369, 4: 3.4520325203252034}\n"
     ]
    }
   ],
   "source": [
    "class_weights = compute_class_weight(class_weight = 'balanced', classes = np.unique(train_generator.classes), y = train_generator.classes)\n",
    "class_weight_dict = dict(enumerate(class_weights))\n",
    "print(class_weight_dict)"
   ]
  },
  {
   "cell_type": "code",
   "execution_count": 11,
   "metadata": {},
   "outputs": [
    {
     "name": "stdout",
     "output_type": "stream",
     "text": [
      "Epoch 1/100\n",
      "398/398 [==============================] - 16s 38ms/step - loss: 1.3830 - accuracy: 0.5607\n",
      "Epoch 2/100\n",
      "398/398 [==============================] - 16s 39ms/step - loss: 1.4524 - accuracy: 0.5591\n",
      "Epoch 3/100\n",
      "398/398 [==============================] - 15s 38ms/step - loss: 1.4394 - accuracy: 0.5571\n",
      "Epoch 4/100\n",
      "398/398 [==============================] - 15s 38ms/step - loss: 1.3598 - accuracy: 0.5637\n",
      "Epoch 5/100\n",
      "398/398 [==============================] - 16s 39ms/step - loss: 1.3672 - accuracy: 0.5604\n",
      "Epoch 6/100\n",
      "398/398 [==============================] - 18s 43ms/step - loss: 1.3972 - accuracy: 0.5676\n",
      "Epoch 7/100\n",
      "398/398 [==============================] - 25s 63ms/step - loss: 1.3600 - accuracy: 0.5706\n",
      "Epoch 8/100\n",
      "398/398 [==============================] - 15s 39ms/step - loss: 1.3490 - accuracy: 0.5715\n",
      "Epoch 9/100\n",
      "398/398 [==============================] - 15s 39ms/step - loss: 1.3585 - accuracy: 0.5805\n",
      "Epoch 10/100\n",
      "398/398 [==============================] - 15s 39ms/step - loss: 1.3305 - accuracy: 0.5885\n",
      "Epoch 11/100\n",
      "398/398 [==============================] - 16s 39ms/step - loss: 1.3540 - accuracy: 0.5813\n",
      "Epoch 12/100\n",
      "398/398 [==============================] - 16s 40ms/step - loss: 1.3488 - accuracy: 0.5862\n",
      "Epoch 13/100\n",
      "398/398 [==============================] - 17s 42ms/step - loss: 1.3385 - accuracy: 0.5871\n",
      "Epoch 14/100\n",
      "398/398 [==============================] - 27s 68ms/step - loss: 1.3448 - accuracy: 0.5890\n",
      "Epoch 15/100\n",
      "398/398 [==============================] - 17s 42ms/step - loss: 1.3236 - accuracy: 0.5985\n",
      "Epoch 16/100\n",
      "398/398 [==============================] - 17s 43ms/step - loss: 1.3740 - accuracy: 0.5939\n",
      "Epoch 17/100\n",
      "398/398 [==============================] - 17s 43ms/step - loss: 1.3532 - accuracy: 0.6005\n",
      "Epoch 18/100\n",
      "398/398 [==============================] - 18s 44ms/step - loss: 1.3376 - accuracy: 0.5852\n",
      "Epoch 19/100\n",
      "398/398 [==============================] - 35s 86ms/step - loss: 1.3299 - accuracy: 0.5963\n",
      "Epoch 20/100\n",
      "398/398 [==============================] - 585s 1s/step - loss: 1.3439 - accuracy: 0.5970\n",
      "number of epochs trained: 62\n",
      "CPU times: user 6min 2s, sys: 2min 1s, total: 8min 4s\n",
      "Wall time: 15min 35s\n"
     ]
    }
   ],
   "source": [
    "%%time\n",
    "steps_per_epoch=train_generator.n//train_generator.batch_size\n",
    "#val_steps=test_generator.n//test_generator.batch_size+1\n",
    "\n",
    "epochs = 100  # sets number of epochs\n",
    "\n",
    "\n",
    "try:\n",
    "    # Record the start time\n",
    "    #start_time = time.time()\n",
    "    h = model1.fit(train_generator, epochs=epochs, verbose=1,\\\n",
    "                    steps_per_epoch=steps_per_epoch,\\\n",
    "                    #class_weight=class_weight_dict,\\\n",
    "                    callbacks=[callback1]\n",
    "                    #validation_data=test_generator,\\\n",
    "                    #validation_steps=val_steps\n",
    "                    )\n",
    "    # Record the end time\n",
    "    # end_time = time.time()\n",
    "except KeyboardInterrupt:\n",
    "    pass\n",
    "\n",
    "# append current history\n",
    "if history is None:\n",
    "    history = h.history\n",
    "else:\n",
    "    history['loss'].extend(h.history['loss'])\n",
    "    history['accuracy'].extend(h.history['accuracy'])\n",
    "    #history['val_loss'].extend(h.history['val_loss'])\n",
    "    #history['val_accuracy'].extend(h.history['val_accuracy'])\n",
    "\n",
    "print(\"number of epochs trained: %d\" %len(history['loss']))\n",
    "\n",
    "# Calculate and print the training time\n",
    "#training_time = end_time - start_time\n",
    "#print(f\"Training time: {training_time} seconds\")"
   ]
  },
  {
   "cell_type": "code",
   "execution_count": 15,
   "metadata": {},
   "outputs": [
    {
     "data": {
      "image/png": "[encoded data removed]",
      "text/plain": [
       "<Figure size 640x480 with 1 Axes>"
      ]
     },
     "metadata": {},
     "output_type": "display_data"
    },
    {
     "data": {
      "image/png": "[encoded data removed]",
      "text/plain": [
       "<Figure size 640x480 with 1 Axes>"
      ]
     },
     "metadata": {},
     "output_type": "display_data"
    }
   ],
   "source": [
    "# summarize history for accuracy\n",
    "plt.plot(history['accuracy'])\n",
    "#plt.plot(history['val_accuracy'])\n",
    "plt.title('model accuracy')\n",
    "plt.ylabel('accuracy')\n",
    "plt.xlabel('epoch')\n",
    "#plt.legend(['train', 'test'], loc='upper left')\n",
    "plt.show()\n",
    "# summarize history for loss\n",
    "plt.plot(history['loss'])\n",
    "#plt.plot(history['val_loss'])\n",
    "plt.title('model loss')\n",
    "plt.ylabel('loss')\n",
    "plt.xlabel('epoch')\n",
    "#plt.legend(['train', 'test'], loc='upper left') #label of line\n",
    "plt.show()"
   ]
  },
  {
   "cell_type": "markdown",
   "metadata": {},
   "source": [
    "### Save model"
   ]
  },
  {
   "cell_type": "code",
   "execution_count": 10,
   "metadata": {},
   "outputs": [
    {
     "name": "stderr",
     "output_type": "stream",
     "text": [
      "/home/gioia/.local/lib/python3.10/site-packages/keras/src/engine/training.py:3103: UserWarning: You are saving your model as an HDF5 file via `model.save()`. This file format is considered legacy. We recommend using instead the native Keras format, e.g. `model.save('my_model.keras')`.\n",
      "  saving_api.save_model(\n"
     ]
    },
    {
     "name": "stdout",
     "output_type": "stream",
     "text": [
      "\n",
      "Model saved successfully on file models/model1_24_epochs.h5\n",
      "\n",
      "History saved successfully on file models/model1_24_epochs_history.pkl\n",
      "\n"
     ]
    }
   ],
   "source": [
    "models_dir = 'models'\n",
    "modelname = 'model1_%d_epochs' %len(history['loss'])\n",
    "\n",
    "def savemodel(problem,model,history):\n",
    "    filename = os.path.join(models_dir, '%s.h5' %problem)\n",
    "    model.save(filename)\n",
    "    print(\"\\nModel saved successfully on file %s\\n\" %filename)\n",
    "    filename = os.path.join(models_dir, '%s_history.pkl' %problem)\n",
    "    with open(filename, 'wb') as f:\n",
    "        pickle.dump(history, f)\n",
    "    print(\"History saved successfully on file %s\\n\" %filename)\n",
    "\n",
    "# Save model and history\n",
    "savemodel(modelname,model1,model1.history)\n"
   ]
  },
  {
   "cell_type": "markdown",
   "metadata": {},
   "source": [
    "## Evaluate"
   ]
  },
  {
   "cell_type": "code",
   "execution_count": null,
   "metadata": {},
   "outputs": [],
   "source": [
    "#model = tf.keras.models.load_model('models/model1_NoAug_20_epochs.h5')"
   ]
  },
  {
   "cell_type": "code",
   "execution_count": 12,
   "metadata": {},
   "outputs": [
    {
     "name": "stdout",
     "output_type": "stream",
     "text": [
      "172\n",
      "172/172 [==============================] - 80s 458ms/step - loss: 1.2338 - accuracy: 0.6406\n",
      "172/172 [==============================] - 56s 328ms/step\n",
      "Test loss: 1.233813\n",
      "Test accuracy: 0.640597\n",
      "              precision    recall  f1-score   support\n",
      "\n",
      "           0     0.3030    0.3008    0.3019       133\n",
      "           1     0.3304    0.6764    0.4439       275\n",
      "           2     0.4755    0.6700    0.5562       406\n",
      "           3     0.8540    0.6661    0.7484      1896\n",
      "           4     0.0000    0.0000    0.0000        39\n",
      "\n",
      "    accuracy                         0.6406      2749\n",
      "   macro avg     0.3926    0.4626    0.4101      2749\n",
      "weighted avg     0.7069    0.6406    0.6574      2749\n",
      "\n"
     ]
    }
   ],
   "source": [
    "val_steps=test_generator.n//test_generator.batch_size+1\n",
    "print(val_steps)\n",
    "loss, acc = model1.evaluate(test_generator,verbose=1,steps=val_steps)\n",
    "pred = model1.predict(test_generator,verbose=1,steps=val_steps).argmax(axis=1)\n",
    "#print(pred)\n",
    "print('Test loss: %f' %loss)\n",
    "print('Test accuracy: %f' %acc)\n",
    "print(classification_report(test_generator.classes, pred, target_names=classnames,digits=4))\n"
   ]
  },
  {
   "cell_type": "code",
   "execution_count": 13,
   "metadata": {},
   "outputs": [
    {
     "data": {
      "image/png": "[encoded data removed]",
      "text/plain": [
       "<Figure size 640x480 with 2 Axes>"
      ]
     },
     "metadata": {},
     "output_type": "display_data"
    },
    {
     "name": "stdout",
     "output_type": "stream",
     "text": [
      "True                 Predicted         \terrors \terr % \n",
      "------------------------------------------------------------------\n",
      "3                ->  1                 \t335 \t12.19 % \n",
      "3                ->  2                 \t243 \t8.84 % \n",
      "2                ->  3                 \t107 \t3.89 % \n",
      "3                ->  0                 \t53 \t1.93 % \n",
      "1                ->  3                 \t49 \t1.78 % \n",
      "0                ->  3                 \t44 \t1.60 % \n",
      "0                ->  1                 \t28 \t1.02 % \n",
      "1                ->  2                 \t22 \t0.80 % \n",
      "0                ->  2                 \t21 \t0.76 % \n",
      "2                ->  0                 \t19 \t0.69 % \n",
      "1                ->  0                 \t17 \t0.62 % \n",
      "4                ->  3                 \t16 \t0.58 % \n",
      "4                ->  2                 \t14 \t0.51 % \n",
      "2                ->  1                 \t8 \t0.29 % \n",
      "4                ->  1                 \t6 \t0.22 % \n",
      "4                ->  0                 \t3 \t0.11 % \n",
      "3                ->  4                 \t2 \t0.07 % \n",
      "1                ->  4                 \t1 \t0.04 % \n"
     ]
    },
    {
     "ename": "",
     "evalue": "",
     "output_type": "error",
     "traceback": [
      "\u001b[1;31mSi è verificato un arresto anomalo del kernel durante l'esecuzione del codice nella cella attiva o in una cella precedente. Esaminare il codice nelle celle per identificare una possibile causa dell'errore. Per altre informazioni, fare clic su <a href='https://aka.ms/vscodeJupyterKernelCrash'>here</a>. Per altri dettagli, vedere Jupyter <a href='command:jupyter.viewOutput'>log</a>."
     ]
    }
   ],
   "source": [
    "ytest = test_generator.classes\n",
    "cm = confusion_matrix(ytest, pred)\n",
    "disp = ConfusionMatrixDisplay(confusion_matrix=cm,display_labels=classnames)\n",
    "disp.plot(cmap=plt.cm.Blues)\n",
    "plt.show()\n",
    "\n",
    "\n",
    "conf = [] # data structure for confusions: list of (i,j,cm[i][j])\n",
    "for i in range(0,cm.shape[0]):\n",
    "  for j in range(0,cm.shape[1]):\n",
    "    if (i!=j and cm[i][j]>0):\n",
    "      conf.append([i,j,cm[i][j]])\n",
    "\n",
    "col=2\n",
    "conf = np.array(conf)\n",
    "conf = conf[np.argsort(-conf[:,col])]  # decreasing order by 3-rd column (i.e., cm[i][j])\n",
    "\n",
    "print('%-16s     %-16s  \\t%s \\t%s ' %('True','Predicted','errors','err %'))\n",
    "print('------------------------------------------------------------------')\n",
    "for k in conf:\n",
    "  print('%-16s ->  %-16s  \\t%d \\t%.2f %% ' %(classnames[k[0]],classnames[k[1]],k[2],k[2]*100.0/test_generator.n))"
   ]
  },
  {
   "cell_type": "markdown",
   "metadata": {},
   "source": [
    "# Model II"
   ]
  },
  {
   "cell_type": "code",
   "execution_count": 6,
   "metadata": {},
   "outputs": [
    {
     "name": "stderr",
     "output_type": "stream",
     "text": [
      "2023-12-29 00:25:01.636464: I external/local_xla/xla/stream_executor/cuda/cuda_executor.cc:887] could not open file to read NUMA node: /sys/bus/pci/devices/0000:01:00.0/numa_node\n",
      "Your kernel may have been built without NUMA support.\n",
      "2023-12-29 00:25:01.636834: I external/local_xla/xla/stream_executor/cuda/cuda_executor.cc:887] could not open file to read NUMA node: /sys/bus/pci/devices/0000:01:00.0/numa_node\n",
      "Your kernel may have been built without NUMA support.\n",
      "2023-12-29 00:25:01.637024: I external/local_xla/xla/stream_executor/cuda/cuda_executor.cc:887] could not open file to read NUMA node: /sys/bus/pci/devices/0000:01:00.0/numa_node\n",
      "Your kernel may have been built without NUMA support.\n",
      "2023-12-29 00:25:01.637563: I external/local_xla/xla/stream_executor/cuda/cuda_executor.cc:887] could not open file to read NUMA node: /sys/bus/pci/devices/0000:01:00.0/numa_node\n",
      "Your kernel may have been built without NUMA support.\n",
      "2023-12-29 00:25:01.637660: I external/local_xla/xla/stream_executor/cuda/cuda_executor.cc:887] could not open file to read NUMA node: /sys/bus/pci/devices/0000:01:00.0/numa_node\n",
      "Your kernel may have been built without NUMA support.\n",
      "2023-12-29 00:25:01.637746: I external/local_xla/xla/stream_executor/cuda/cuda_executor.cc:887] could not open file to read NUMA node: /sys/bus/pci/devices/0000:01:00.0/numa_node\n",
      "Your kernel may have been built without NUMA support.\n",
      "2023-12-29 00:25:01.638303: I external/local_xla/xla/stream_executor/cuda/cuda_executor.cc:887] could not open file to read NUMA node: /sys/bus/pci/devices/0000:01:00.0/numa_node\n",
      "Your kernel may have been built without NUMA support.\n",
      "2023-12-29 00:25:01.638336: I tensorflow/core/common_runtime/gpu/gpu_device.cc:2022] Could not identify NUMA node of platform GPU id 0, defaulting to 0.  Your kernel may not have been built with NUMA support.\n",
      "2023-12-29 00:25:01.638588: I external/local_xla/xla/stream_executor/cuda/cuda_executor.cc:887] could not open file to read NUMA node: /sys/bus/pci/devices/0000:01:00.0/numa_node\n",
      "Your kernel may have been built without NUMA support.\n",
      "2023-12-29 00:25:01.638651: I tensorflow/core/common_runtime/gpu/gpu_device.cc:1929] Created device /job:localhost/replica:0/task:0/device:GPU:0 with 1292 MB memory:  -> device: 0, name: NVIDIA GeForce MX150, pci bus id: 0000:01:00.0, compute capability: 6.1\n"
     ]
    },
    {
     "name": "stdout",
     "output_type": "stream",
     "text": [
      "Model: \"model\"\n",
      "__________________________________________________________________________________________________\n",
      " Layer (type)                Output Shape                 Param #   Connected to                  \n",
      "==================================================================================================\n",
      " input_1 (InputLayer)        [(None, 96, 96, 3)]          0         []                            \n",
      "                                                                                                  \n",
      " cropping2d (Cropping2D)     (None, 48, 96, 3)            0         ['input_1[0][0]']             \n",
      "                                                                                                  \n",
      " cropping2d_1 (Cropping2D)   (None, 48, 96, 3)            0         ['input_1[0][0]']             \n",
      "                                                                                                  \n",
      " conv2d (Conv2D)             (None, 46, 94, 32)           896       ['cropping2d[0][0]']          \n",
      "                                                                                                  \n",
      " conv2d_2 (Conv2D)           (None, 46, 94, 32)           896       ['cropping2d_1[0][0]']        \n",
      "                                                                                                  \n",
      " max_pooling2d (MaxPooling2  (None, 23, 47, 32)           0         ['conv2d[0][0]']              \n",
      " D)                                                                                               \n",
      "                                                                                                  \n",
      " max_pooling2d_1 (MaxPoolin  (None, 23, 47, 32)           0         ['conv2d_2[0][0]']            \n",
      " g2D)                                                                                             \n",
      "                                                                                                  \n",
      " conv2d_1 (Conv2D)           (None, 21, 45, 64)           18496     ['max_pooling2d[0][0]']       \n",
      "                                                                                                  \n",
      " conv2d_3 (Conv2D)           (None, 21, 45, 64)           18496     ['max_pooling2d_1[0][0]']     \n",
      "                                                                                                  \n",
      " flatten (Flatten)           (None, 60480)                0         ['conv2d_1[0][0]']            \n",
      "                                                                                                  \n",
      " flatten_1 (Flatten)         (None, 60480)                0         ['conv2d_3[0][0]']            \n",
      "                                                                                                  \n",
      " dense (Dense)               (None, 128)                  7741568   ['flatten[0][0]']             \n",
      "                                                                                                  \n",
      " dense_1 (Dense)             (None, 128)                  7741568   ['flatten_1[0][0]']           \n",
      "                                                                                                  \n",
      " concatenate (Concatenate)   (None, 256)                  0         ['dense[0][0]',               \n",
      "                                                                     'dense_1[0][0]']             \n",
      "                                                                                                  \n",
      " dense_2 (Dense)             (None, 128)                  32896     ['concatenate[0][0]']         \n",
      "                                                                                                  \n",
      " dropout (Dropout)           (None, 128)                  0         ['dense_2[0][0]']             \n",
      "                                                                                                  \n",
      " dense_3 (Dense)             (None, 5)                    645       ['dropout[0][0]']             \n",
      "                                                                                                  \n",
      "==================================================================================================\n",
      "Total params: 15555461 (59.34 MB)\n",
      "Trainable params: 15555461 (59.34 MB)\n",
      "Non-trainable params: 0 (0.00 Byte)\n",
      "__________________________________________________________________________________________________\n"
     ]
    }
   ],
   "source": [
    "# Define the composite model \n",
    "def composite_model(input_shape, num_classes, upper_crop, lower_crop,lr = 0.001):\n",
    "    input_layer = Input(input_shape) \n",
    "\n",
    "    # Upper part\n",
    "    upper_part = Cropping2D(cropping=upper_crop)(input_layer)\n",
    "    upper_model = Conv2D(32, (3, 3), activation='relu')(upper_part)\n",
    "    upper_model = MaxPooling2D((2, 2))(upper_model)\n",
    "    upper_model = Conv2D(64, (3, 3), activation='relu')(upper_model)\n",
    "    upper_model = Flatten()(upper_model)\n",
    "    upper_model = Dense(128, activation='relu')(upper_model)\n",
    "\n",
    "    # Lower part\n",
    "    lower_part = Cropping2D(cropping=lower_crop)(input_layer)\n",
    "    lower_model = Conv2D(32, (3, 3), activation='relu')(lower_part)\n",
    "    lower_model = MaxPooling2D((2, 2))(lower_model)\n",
    "    lower_model = Conv2D(64, (3, 3), activation='relu')(lower_model)\n",
    "    lower_model = Flatten()(lower_model)\n",
    "    lower_model = Dense(128, activation='relu')(lower_model)\n",
    "\n",
    "    # All parts\n",
    "\n",
    "\n",
    "    # Concatenate the outputs of the upper and lower models\n",
    "    merged = concatenate([upper_model, lower_model])\n",
    "\n",
    "    # Add additional layers for the combined model\n",
    "    merged = Dense(128, activation='relu')(merged)\n",
    "    merged = Dropout(0.4)(merged)\n",
    "    output_layer = Dense(num_classes, activation='softmax')(merged)  \n",
    "\n",
    "    # Create and compile the composite model\n",
    "    adam = optimizers.Adam(learning_rate=lr)\n",
    "    composite_model = Model(inputs=input_layer, outputs=output_layer)\n",
    "    composite_model.compile(loss='categorical_crossentropy', optimizer=adam, metrics=['accuracy'])\n",
    "\n",
    "    return composite_model\n",
    "\n",
    "# Instantiate the composite model\n",
    "upper_crop = ((0, 48), (0, 0))  # Adjust based on your specific image dimensions\n",
    "lower_crop = ((48, 0), (0, 0))  # Adjust based on your specific image dimensions\n",
    "composite_model = composite_model(input_shape, num_classes, upper_crop, lower_crop)\n",
    "\n",
    "# Print the model summary\n",
    "composite_model.summary()\n",
    "\n",
    "# define the callback\n",
    "callback2 = tf.keras.callbacks.EarlyStopping(monitor='loss',patience=5)\n",
    "\n",
    "history = None"
   ]
  },
  {
   "cell_type": "markdown",
   "metadata": {},
   "source": [
    "## Train"
   ]
  },
  {
   "cell_type": "code",
   "execution_count": 7,
   "metadata": {},
   "outputs": [
    {
     "name": "stdout",
     "output_type": "stream",
     "text": [
      "Epoch 1/100\n"
     ]
    },
    {
     "name": "stderr",
     "output_type": "stream",
     "text": [
      "2023-12-29 00:25:06.345560: I external/local_xla/xla/stream_executor/cuda/cuda_dnn.cc:454] Loaded cuDNN version 8902\n",
      "2023-12-29 00:25:09.724418: I external/local_tsl/tsl/platform/default/subprocess.cc:304] Start cannot spawn child process: No such file or directory\n",
      "2023-12-29 00:25:11.933517: I external/local_tsl/tsl/platform/default/subprocess.cc:304] Start cannot spawn child process: No such file or directory\n",
      "2023-12-29 00:25:13.120554: I external/local_xla/xla/service/service.cc:168] XLA service 0x7efa27676310 initialized for platform CUDA (this does not guarantee that XLA will be used). Devices:\n",
      "2023-12-29 00:25:13.120659: I external/local_xla/xla/service/service.cc:176]   StreamExecutor device (0): NVIDIA GeForce MX150, Compute Capability 6.1\n",
      "2023-12-29 00:25:13.205288: I tensorflow/compiler/mlir/tensorflow/utils/dump_mlir_util.cc:269] disabling MLIR crash reproducer, set env var `MLIR_CRASH_REPRODUCER_DIRECTORY` to enable.\n",
      "WARNING: All log messages before absl::InitializeLog() is called are written to STDERR\n",
      "I0000 00:00:1703805913.477651    3424 device_compiler.h:186] Compiled cluster using XLA!  This line is logged at most once for the lifetime of the process.\n"
     ]
    },
    {
     "name": "stdout",
     "output_type": "stream",
     "text": [
      "398/398 [==============================] - 40s 62ms/step - loss: 4.6907 - accuracy: 0.5032\n",
      "Epoch 2/100\n",
      "398/398 [==============================] - 24s 60ms/step - loss: 1.2160 - accuracy: 0.5489\n",
      "Epoch 3/100\n",
      "398/398 [==============================] - 24s 59ms/step - loss: 1.1501 - accuracy: 0.5747\n",
      "Epoch 4/100\n",
      "398/398 [==============================] - 24s 59ms/step - loss: 1.0815 - accuracy: 0.6016\n",
      "Epoch 5/100\n",
      "398/398 [==============================] - 24s 59ms/step - loss: 1.0228 - accuracy: 0.6230\n",
      "Epoch 6/100\n",
      "398/398 [==============================] - 24s 59ms/step - loss: 1.0518 - accuracy: 0.6123\n",
      "Epoch 7/100\n",
      "398/398 [==============================] - 24s 60ms/step - loss: 1.1379 - accuracy: 0.5999\n",
      "Epoch 8/100\n",
      "398/398 [==============================] - 24s 59ms/step - loss: 1.0172 - accuracy: 0.6247\n",
      "Epoch 9/100\n",
      "398/398 [==============================] - 24s 59ms/step - loss: 0.9359 - accuracy: 0.6551\n",
      "Epoch 10/100\n",
      "398/398 [==============================] - 24s 59ms/step - loss: 0.9084 - accuracy: 0.6668\n",
      "Epoch 11/100\n",
      "398/398 [==============================] - 23s 59ms/step - loss: 0.8724 - accuracy: 0.6820\n",
      "Epoch 12/100\n",
      "398/398 [==============================] - 23s 59ms/step - loss: 0.8748 - accuracy: 0.6921\n",
      "Epoch 13/100\n",
      "398/398 [==============================] - 23s 59ms/step - loss: 0.8880 - accuracy: 0.6781\n",
      "Epoch 14/100\n",
      "398/398 [==============================] - 23s 57ms/step - loss: 0.8313 - accuracy: 0.6943\n",
      "Epoch 15/100\n",
      "398/398 [==============================] - 23s 57ms/step - loss: 0.8053 - accuracy: 0.6942\n",
      "Epoch 16/100\n",
      "398/398 [==============================] - 23s 57ms/step - loss: 0.8362 - accuracy: 0.6890\n",
      "Epoch 17/100\n",
      "398/398 [==============================] - 23s 57ms/step - loss: 0.8825 - accuracy: 0.6732\n",
      "Epoch 18/100\n",
      "398/398 [==============================] - 23s 57ms/step - loss: 0.7857 - accuracy: 0.7105\n",
      "Epoch 19/100\n",
      "398/398 [==============================] - 23s 57ms/step - loss: 0.7376 - accuracy: 0.7253\n",
      "Epoch 20/100\n",
      "398/398 [==============================] - 23s 57ms/step - loss: 0.7020 - accuracy: 0.7374\n",
      "Epoch 21/100\n",
      "398/398 [==============================] - 23s 57ms/step - loss: 0.6984 - accuracy: 0.7367\n",
      "Epoch 22/100\n",
      "398/398 [==============================] - 23s 57ms/step - loss: 0.7844 - accuracy: 0.7264\n",
      "Epoch 23/100\n",
      "398/398 [==============================] - 23s 57ms/step - loss: 0.8557 - accuracy: 0.7278\n",
      "Epoch 24/100\n",
      "398/398 [==============================] - 24s 60ms/step - loss: 0.6738 - accuracy: 0.7504\n",
      "Epoch 25/100\n",
      "398/398 [==============================] - 23s 57ms/step - loss: 0.6517 - accuracy: 0.7560\n",
      "Epoch 26/100\n",
      "398/398 [==============================] - 23s 57ms/step - loss: 0.6669 - accuracy: 0.7466\n",
      "Epoch 27/100\n",
      "398/398 [==============================] - 23s 57ms/step - loss: 0.6507 - accuracy: 0.7571\n",
      "Epoch 28/100\n",
      "398/398 [==============================] - 23s 57ms/step - loss: 0.6081 - accuracy: 0.7710\n",
      "Epoch 29/100\n",
      "398/398 [==============================] - 23s 57ms/step - loss: 0.5837 - accuracy: 0.7840\n",
      "Epoch 30/100\n",
      "398/398 [==============================] - 23s 57ms/step - loss: 0.5438 - accuracy: 0.7968\n",
      "Epoch 31/100\n",
      "398/398 [==============================] - 23s 57ms/step - loss: 0.5502 - accuracy: 0.7980\n",
      "Epoch 32/100\n",
      "398/398 [==============================] - 23s 57ms/step - loss: 0.5099 - accuracy: 0.8105\n",
      "Epoch 33/100\n",
      "398/398 [==============================] - 23s 57ms/step - loss: 0.4589 - accuracy: 0.8324\n",
      "Epoch 34/100\n",
      "398/398 [==============================] - 23s 57ms/step - loss: 0.4672 - accuracy: 0.8306\n",
      "Epoch 35/100\n",
      "398/398 [==============================] - 23s 57ms/step - loss: 0.4311 - accuracy: 0.8421\n",
      "Epoch 36/100\n",
      "398/398 [==============================] - 23s 58ms/step - loss: 0.4221 - accuracy: 0.8490\n",
      "Epoch 37/100\n",
      "398/398 [==============================] - 23s 57ms/step - loss: 0.4058 - accuracy: 0.8542\n",
      "Epoch 38/100\n",
      "398/398 [==============================] - 23s 57ms/step - loss: 0.3591 - accuracy: 0.8709\n",
      "Epoch 39/100\n",
      "398/398 [==============================] - 23s 57ms/step - loss: 0.3471 - accuracy: 0.8775\n",
      "Epoch 40/100\n",
      "398/398 [==============================] - 23s 59ms/step - loss: 0.3500 - accuracy: 0.8745\n",
      "Epoch 41/100\n",
      "398/398 [==============================] - 23s 58ms/step - loss: 0.3603 - accuracy: 0.8687\n",
      "Epoch 42/100\n",
      "398/398 [==============================] - 23s 57ms/step - loss: 0.4382 - accuracy: 0.8610\n",
      "Epoch 43/100\n",
      "398/398 [==============================] - 23s 57ms/step - loss: 0.3379 - accuracy: 0.8819\n",
      "Epoch 44/100\n",
      "398/398 [==============================] - 23s 57ms/step - loss: 0.3086 - accuracy: 0.8862\n",
      "Epoch 45/100\n",
      "398/398 [==============================] - 23s 57ms/step - loss: 0.3040 - accuracy: 0.8887\n",
      "Epoch 46/100\n",
      "398/398 [==============================] - 23s 57ms/step - loss: 0.2994 - accuracy: 0.8933\n",
      "Epoch 47/100\n",
      "398/398 [==============================] - 23s 57ms/step - loss: 0.3214 - accuracy: 0.8917\n",
      "Epoch 48/100\n",
      "398/398 [==============================] - 23s 57ms/step - loss: 0.2809 - accuracy: 0.8994\n",
      "Epoch 49/100\n",
      "398/398 [==============================] - 23s 57ms/step - loss: 0.2737 - accuracy: 0.9060\n",
      "Epoch 50/100\n",
      "398/398 [==============================] - 23s 57ms/step - loss: 0.2625 - accuracy: 0.9074\n",
      "Epoch 51/100\n",
      "398/398 [==============================] - 23s 57ms/step - loss: 0.2468 - accuracy: 0.9123\n",
      "Epoch 52/100\n",
      "398/398 [==============================] - 23s 57ms/step - loss: 0.2482 - accuracy: 0.9147\n",
      "Epoch 53/100\n",
      "398/398 [==============================] - 23s 57ms/step - loss: 0.2554 - accuracy: 0.9147\n",
      "Epoch 54/100\n",
      "398/398 [==============================] - 23s 57ms/step - loss: 0.2398 - accuracy: 0.9136\n",
      "Epoch 55/100\n",
      "398/398 [==============================] - 23s 57ms/step - loss: 0.2279 - accuracy: 0.9156\n",
      "Epoch 56/100\n",
      "398/398 [==============================] - 23s 57ms/step - loss: 0.2250 - accuracy: 0.9237\n",
      "Epoch 57/100\n",
      "398/398 [==============================] - 23s 57ms/step - loss: 0.2191 - accuracy: 0.9207\n",
      "Epoch 58/100\n",
      "398/398 [==============================] - 23s 57ms/step - loss: 0.2328 - accuracy: 0.9235\n",
      "Epoch 59/100\n",
      "398/398 [==============================] - 23s 57ms/step - loss: 0.2150 - accuracy: 0.9241\n",
      "Epoch 60/100\n",
      "398/398 [==============================] - 23s 57ms/step - loss: 0.2092 - accuracy: 0.9284\n",
      "Epoch 61/100\n",
      "398/398 [==============================] - 23s 57ms/step - loss: 0.2173 - accuracy: 0.9254\n",
      "Epoch 62/100\n",
      "398/398 [==============================] - 23s 57ms/step - loss: 0.1943 - accuracy: 0.9334\n",
      "Epoch 63/100\n",
      "398/398 [==============================] - 23s 57ms/step - loss: 0.1759 - accuracy: 0.9378\n",
      "Epoch 64/100\n",
      "398/398 [==============================] - 23s 57ms/step - loss: 0.1624 - accuracy: 0.9397\n",
      "Epoch 65/100\n",
      "398/398 [==============================] - 23s 57ms/step - loss: 0.2773 - accuracy: 0.9293\n",
      "Epoch 66/100\n",
      "398/398 [==============================] - 23s 57ms/step - loss: 0.2578 - accuracy: 0.9170\n",
      "Epoch 67/100\n",
      "398/398 [==============================] - 23s 57ms/step - loss: 0.1930 - accuracy: 0.9361\n",
      "Epoch 68/100\n",
      "398/398 [==============================] - 23s 57ms/step - loss: 0.1394 - accuracy: 0.9504\n",
      "Epoch 69/100\n",
      "398/398 [==============================] - 23s 57ms/step - loss: 0.1809 - accuracy: 0.9388\n",
      "Epoch 70/100\n",
      "398/398 [==============================] - 23s 57ms/step - loss: 0.1754 - accuracy: 0.9358\n",
      "Epoch 71/100\n",
      "398/398 [==============================] - 23s 57ms/step - loss: 0.1674 - accuracy: 0.9455\n",
      "Epoch 72/100\n",
      "398/398 [==============================] - 23s 57ms/step - loss: 0.1383 - accuracy: 0.9503\n",
      "Epoch 73/100\n",
      "398/398 [==============================] - 23s 57ms/step - loss: 0.1695 - accuracy: 0.9422\n",
      "Epoch 74/100\n",
      "398/398 [==============================] - 23s 57ms/step - loss: 0.1745 - accuracy: 0.9416\n",
      "Epoch 75/100\n",
      "398/398 [==============================] - 23s 57ms/step - loss: 0.1642 - accuracy: 0.9457\n",
      "Epoch 76/100\n",
      "398/398 [==============================] - 23s 57ms/step - loss: 0.1559 - accuracy: 0.9459\n",
      "Epoch 77/100\n",
      "398/398 [==============================] - 23s 57ms/step - loss: 0.1392 - accuracy: 0.9493\n",
      "number of epochs trained: 77\n",
      "CPU times: user 31min 27s, sys: 3min 49s, total: 35min 17s\n",
      "Wall time: 29min 43s\n"
     ]
    }
   ],
   "source": [
    "%%time\n",
    "steps_per_epoch=train_generator.n//train_generator.batch_size\n",
    "val_steps=test_generator.n//test_generator.batch_size+1\n",
    "\n",
    "epochs = 100  # sets number of epochs\n",
    "\n",
    "h = composite_model.fit(train_generator, epochs=epochs, verbose=1,\\\n",
    "                    steps_per_epoch=steps_per_epoch,\\\n",
    "                    #class_weight=class_weight_dict,\\\n",
    "                    callbacks=[callback2]\n",
    "                    #validation_data=test_generator,\\\n",
    "                    #validation_steps=val_steps\n",
    "                    )\n",
    "\n",
    "\n",
    "# append current history\n",
    "if history is None:\n",
    "    history = h.history\n",
    "else:\n",
    "    history['loss'].extend(h.history['loss'])\n",
    "    history['accuracy'].extend(h.history['accuracy'])\n",
    "    history['val_loss'].extend(h.history['val_loss'])\n",
    "    history['val_accuracy'].extend(h.history['val_accuracy'])\n",
    "\n",
    "print(\"number of epochs trained: %d\" %len(history['loss']))\n"
   ]
  },
  {
   "cell_type": "markdown",
   "metadata": {},
   "source": [
    "## Evaluate"
   ]
  },
  {
   "cell_type": "code",
   "execution_count": 10,
   "metadata": {},
   "outputs": [
    {
     "name": "stdout",
     "output_type": "stream",
     "text": [
      "172\n",
      "172/172 [==============================] - 2s 13ms/step - loss: 10.5858 - accuracy: 0.4001\n",
      "172/172 [==============================] - 2s 9ms/step\n",
      "Test loss: 10.585795\n",
      "Test accuracy: 0.400146\n",
      "              precision    recall  f1-score   support\n",
      "\n",
      "           0     0.1055    0.3459    0.1617       133\n",
      "           1     0.2347    0.5564    0.3301       275\n",
      "           2     0.3491    0.5813    0.4362       406\n",
      "           3     0.8119    0.3460    0.4852      1896\n",
      "           4     0.0508    0.2308    0.0833        39\n",
      "\n",
      "    accuracy                         0.4001      2749\n",
      "   macro avg     0.3104    0.4121    0.2993      2749\n",
      "weighted avg     0.6408    0.4001    0.4411      2749\n",
      "\n"
     ]
    }
   ],
   "source": [
    "val_steps=test_generator.n//test_generator.batch_size+1\n",
    "print(val_steps)\n",
    "loss, acc = composite_model.evaluate(test_generator,verbose=1,steps=val_steps)\n",
    "pred = composite_model.predict(test_generator,verbose=1,steps=val_steps).argmax(axis=1)\n",
    "#print(pred)\n",
    "print('Test loss: %f' %loss)\n",
    "print('Test accuracy: %f' %acc)\n",
    "print(classification_report(test_generator.classes, pred, target_names=classnames,digits=4))"
   ]
  },
  {
   "cell_type": "code",
   "execution_count": 9,
   "metadata": {},
   "outputs": [
    {
     "data": {
      "image/png": "[encoded data removed]",
      "text/plain": [
       "<Figure size 640x480 with 2 Axes>"
      ]
     },
     "metadata": {},
     "output_type": "display_data"
    },
    {
     "name": "stdout",
     "output_type": "stream",
     "text": [
      "True                 Predicted         \terrors \terr % \n",
      "------------------------------------------------------------------\n",
      "3                ->  1                 \t435 \t15.82 % \n",
      "3                ->  2                 \t371 \t13.50 % \n",
      "3                ->  0                 \t301 \t10.95 % \n",
      "3                ->  4                 \t133 \t4.84 % \n",
      "2                ->  3                 \t83 \t3.02 % \n",
      "2                ->  0                 \t47 \t1.71 % \n",
      "1                ->  3                 \t42 \t1.53 % \n",
      "1                ->  0                 \t39 \t1.42 % \n",
      "0                ->  1                 \t29 \t1.05 % \n",
      "2                ->  1                 \t29 \t1.05 % \n",
      "0                ->  2                 \t29 \t1.05 % \n",
      "1                ->  2                 \t28 \t1.02 % \n",
      "0                ->  3                 \t18 \t0.65 % \n",
      "1                ->  4                 \t13 \t0.47 % \n",
      "4                ->  2                 \t12 \t0.44 % \n",
      "2                ->  4                 \t11 \t0.40 % \n",
      "0                ->  4                 \t11 \t0.40 % \n",
      "4                ->  3                 \t9 \t0.33 % \n",
      "4                ->  1                 \t6 \t0.22 % \n",
      "4                ->  0                 \t3 \t0.11 % \n"
     ]
    }
   ],
   "source": [
    "ytest = test_generator.classes\n",
    "cm = confusion_matrix(ytest, pred)\n",
    "disp = ConfusionMatrixDisplay(confusion_matrix=cm,display_labels=classnames)\n",
    "disp.plot(cmap=plt.cm.Blues)\n",
    "plt.show()\n",
    "\n",
    "\n",
    "conf = [] # data structure for confusions: list of (i,j,cm[i][j])\n",
    "for i in range(0,cm.shape[0]):\n",
    "  for j in range(0,cm.shape[1]):\n",
    "    if (i!=j and cm[i][j]>0):\n",
    "      conf.append([i,j,cm[i][j]])\n",
    "\n",
    "col=2\n",
    "conf = np.array(conf)\n",
    "conf = conf[np.argsort(-conf[:,col])]  # decreasing order by 3-rd column (i.e., cm[i][j])\n",
    "\n",
    "print('%-16s     %-16s  \\t%s \\t%s ' %('True','Predicted','errors','err %'))\n",
    "print('------------------------------------------------------------------')\n",
    "for k in conf:\n",
    "  print('%-16s ->  %-16s  \\t%d \\t%.2f %% ' %(classnames[k[0]],classnames[k[1]],k[2],k[2]*100.0/test_generator.n))"
   ]
  }
 ],
 "metadata": {
  "kernelspec": {
   "display_name": "ML",
   "language": "python",
   "name": "python3"
  },
  "language_info": {
   "codemirror_mode": {
    "name": "ipython",
    "version": 3
   },
   "file_extension": ".py",
   "mimetype": "text/x-python",
   "name": "python",
   "nbconvert_exporter": "python",
   "pygments_lexer": "ipython3",
   "version": "3.10.12"
  }
 },
 "nbformat": 4,
 "nbformat_minor": 2
}
