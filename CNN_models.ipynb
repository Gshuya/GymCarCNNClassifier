{
 "cells": [
  {
   "cell_type": "markdown",
   "metadata": {},
   "source": [
    "# Import needed libraries"
   ]
  },
  {
   "cell_type": "code",
   "execution_count": null,
   "metadata": {},
   "outputs": [],
   "source": [
    "import tensorflow as tf\n",
    "from tensorflow.keras.preprocessing.image import ImageDataGenerator\n",
    "from tensorflow.keras.models import Sequential, Model\n",
    "from tensorflow.keras.layers import Input, Dense, Activation, Dropout, Flatten,\\\n",
    "                         Conv2D, MaxPooling2D, BatchNormalization, concatenate, Cropping2D, Average\n",
    "from tensorflow.keras import regularizers\n",
    "from tensorflow.keras import optimizers\n",
    "from sklearn.metrics import classification_report, confusion_matrix,ConfusionMatrixDisplay\n",
    "from sklearn.utils.class_weight import compute_class_weight\n",
    "import numpy as np\n",
    "import matplotlib.pyplot as plt"
   ]
  },
  {
   "cell_type": "code",
   "execution_count": null,
   "metadata": {},
   "outputs": [],
   "source": [
    "device_name = tf.test.gpu_device_name()\n",
    "print(device_name)"
   ]
  },
  {
   "cell_type": "markdown",
   "metadata": {},
   "source": [
    "# Load Data"
   ]
  },
  {
   "cell_type": "code",
   "execution_count": 3,
   "metadata": {},
   "outputs": [
    {
     "name": "stdout",
     "output_type": "stream",
     "text": [
      "Found 6369 images belonging to 5 classes.\n",
      "Found 2749 images belonging to 5 classes.\n",
      "Image input (96, 96, 3)\n",
      "Classes: ['0', '1', '2', '3', '4']\n",
      "Loaded 6369 training samples from 5 classes.\n",
      "Loaded 2749 test samples from 5 classes.\n"
     ]
    }
   ],
   "source": [
    "trainingset = 'train'\n",
    "testset = 'test'\n",
    "\n",
    "batch_size = 16\n",
    "\n",
    "\"\"\"\n",
    "train_datagen = ImageDataGenerator(\n",
    "    zoom_range=0.3,\\\n",
    "    rotation_range=20,\\\n",
    "    width_shift_range=0.2,\\\n",
    "    height_shift_range=0.2,\\\n",
    "    horizontal_flip=True,\\\n",
    "    vertical_flip=False\n",
    "    )\n",
    "\"\"\"\n",
    "train_datagen = ImageDataGenerator()\n",
    "\n",
    "#Generate batches of image data and their corresponding labels from a directory structure\n",
    "train_generator = train_datagen.flow_from_directory(\n",
    "    directory=trainingset,\n",
    "    target_size=(96, 96),\n",
    "    color_mode=\"rgb\",\n",
    "    batch_size=batch_size,\n",
    "    class_mode=\"categorical\",\n",
    "    shuffle=True)\n",
    "\n",
    "test_datagen = ImageDataGenerator()\n",
    "\n",
    "test_generator = test_datagen.flow_from_directory(\n",
    "    directory=testset,\n",
    "    target_size=(96, 96),\n",
    "    color_mode=\"rgb\",\n",
    "    batch_size=batch_size,\n",
    "    class_mode=\"categorical\",\n",
    "    shuffle=False\n",
    ")\n",
    "\n",
    "num_samples = train_generator.n\n",
    "num_classes = train_generator.num_classes\n",
    "input_shape = train_generator.image_shape\n",
    "\n",
    "classnames = [k for k,v in train_generator.class_indices.items()]\n",
    "\n",
    "print(\"Image input %s\" %str(input_shape))\n",
    "print(\"Classes: %r\" %classnames)\n",
    "print('Loaded %d training samples from %d classes.' %(num_samples,num_classes))\n",
    "print('Loaded %d test samples from %d classes.' %(test_generator.n,test_generator.num_classes))\n"
   ]
  },
  {
   "cell_type": "markdown",
   "metadata": {},
   "source": [
    "## Data distribution"
   ]
  },
  {
   "cell_type": "code",
   "execution_count": 4,
   "metadata": {},
   "outputs": [
    {
     "data": {
      "image/png": "[encoded data removed]",
      "text/plain": [
       "<Figure size 640x480 with 1 Axes>"
      ]
     },
     "metadata": {},
     "output_type": "display_data"
    }
   ],
   "source": [
    "# Count the number of samples \n",
    "class_counts = {class_name: 0 for class_name in np.unique(train_generator.classes)}\n",
    "for label in train_generator.classes:\n",
    "    class_counts[label] += 1\n",
    "    if sum(class_counts.values()) >= num_samples:\n",
    "        break\n",
    "\n",
    "# Plot the distribution\n",
    "bars = plt.bar(class_counts.keys(), class_counts.values())\n",
    "plt.xlabel('Class')\n",
    "plt.ylabel('Number of Samples')\n",
    "plt.title('Distribution of Samples in Classes')\n",
    "for bar in bars:\n",
    "    yval = bar.get_height()\n",
    "    plt.text(bar.get_x()+0.2, yval + 25, yval,)\n",
    "plt.show()\n"
   ]
  },
  {
   "cell_type": "markdown",
   "metadata": {},
   "source": [
    "# Model I"
   ]
  },
  {
   "cell_type": "code",
   "execution_count": null,
   "metadata": {},
   "outputs": [],
   "source": [
    "def ModelI(input_shape, num_classes, lr=0.0001):\n",
    "\n",
    "    model = Sequential()\n",
    "\n",
    "    # C1 Convolutional Layer\n",
    "    model.add(Conv2D(filters=32, input_shape=input_shape, kernel_size=(5,5)))\n",
    "    model.add(Activation('relu'))\n",
    "    # Pooling\n",
    "    model.add(MaxPooling2D(pool_size=(2,2), strides=(2,2)))\n",
    "    # Batch Normalisation before passing it to the next layer\n",
    "    model.add(BatchNormalization())\n",
    "\n",
    "    # C2 Convolutional Layer\n",
    "    model.add(Conv2D(filters=64, kernel_size=(3,3)))\n",
    "    model.add(Activation('relu'))\n",
    "    # Pooling\n",
    "    model.add(MaxPooling2D(pool_size=(2,2), strides=(2,2)))\n",
    "    # Batch Normalisation\n",
    "    model.add(BatchNormalization())\n",
    "\n",
    "    # Flatten\n",
    "    model.add(Flatten())\n",
    "\n",
    "    flatten_shape = (input_shape[0]*input_shape[1]*input_shape[2],)\n",
    "\n",
    "    # Dense Layer\n",
    "\n",
    "    # model.add(Dense(128, input_shape=flatten_shape, kernel_regularizer=regularizers.l2(regl2)))\n",
    "    model.add(Dense(128, input_shape=flatten_shape))\n",
    "    model.add(Activation('relu'))\n",
    "    # Dropout\n",
    "    model.add(Dropout(0.4))\n",
    "    # Batch Normalisation\n",
    "    model.add(BatchNormalization())\n",
    "\n",
    "    # Output Layer\n",
    "    model.add(Dense(num_classes))\n",
    "    model.add(Activation('softmax'))\n",
    "\n",
    "    # Compile\n",
    "    adam = optimizers.Adam(learning_rate=lr)\n",
    "    model.compile(loss='categorical_crossentropy', optimizer=adam, metrics=['accuracy'])\n",
    "\n",
    "    return model\n",
    "\n",
    "# create the model\n",
    "model1 = ModelI(input_shape,num_classes)\n",
    "model1.summary()\n",
    "\n",
    "# define the callback\n",
    "callback1 = tf.keras.callbacks.EarlyStopping(monitor='val_loss',patience=3)\n",
    "\n",
    "\n",
    "history = None\n"
   ]
  },
  {
   "cell_type": "markdown",
   "metadata": {},
   "source": [
    "## Train"
   ]
  },
  {
   "cell_type": "code",
   "execution_count": 6,
   "metadata": {},
   "outputs": [
    {
     "name": "stdout",
     "output_type": "stream",
     "text": [
      "{0: 1.2738, 1: 0.8492, 2: 0.8492, 3: 0.6369, 4: 3.4520325203252034}\n"
     ]
    }
   ],
   "source": [
    "class_weights = compute_class_weight(class_weight = 'balanced', classes = np.unique(train_generator.classes), y = train_generator.classes)\n",
    "class_weight_dict = dict(enumerate(class_weights))\n",
    "print(class_weight_dict)"
   ]
  },
  {
   "cell_type": "code",
   "execution_count": null,
   "metadata": {},
   "outputs": [],
   "source": [
    "%%time\n",
    "steps_per_epoch=train_generator.n//train_generator.batch_size\n",
    "val_steps=test_generator.n//test_generator.batch_size+1\n",
    "\n",
    "epochs = 100  # sets number of epochs\n",
    "\n",
    "\n",
    "try:\n",
    "    h = model1.fit(train_generator, epochs=epochs, verbose=1,\\\n",
    "                    steps_per_epoch=steps_per_epoch,\\\n",
    "                    class_weight=class_weight_dict,\\\n",
    "                    callbacks=[callback1],\n",
    "                    validation_data=test_generator,\\\n",
    "                    validation_steps=val_steps\n",
    "                    )\n",
    "except KeyboardInterrupt:\n",
    "    pass\n",
    "\n",
    "# append current history\n",
    "if history is None:\n",
    "    history = h.history\n",
    "else:\n",
    "    history['loss'].extend(h.history['loss'])\n",
    "    history['accuracy'].extend(h.history['accuracy'])\n",
    "    history['val_loss'].extend(h.history['val_loss'])\n",
    "    history['val_accuracy'].extend(h.history['val_accuracy'])\n",
    "\n",
    "print(\"number of epochs trained: %d\" %len(history['loss']))\n"
   ]
  },
  {
   "cell_type": "code",
   "execution_count": null,
   "metadata": {},
   "outputs": [],
   "source": [
    "# summarize history for accuracy\n",
    "plt.plot(history['accuracy'])\n",
    "plt.plot(history['val_accuracy'])\n",
    "plt.title('model accuracy')\n",
    "plt.ylabel('accuracy')\n",
    "plt.xlabel('epoch')\n",
    "plt.legend(['train', 'test'], loc='upper left')\n",
    "plt.show()\n",
    "# summarize history for loss\n",
    "plt.plot(history['loss'])\n",
    "plt.plot(history['val_loss'])\n",
    "plt.title('model loss')\n",
    "plt.ylabel('loss')\n",
    "plt.xlabel('epoch')\n",
    "plt.legend(['train', 'test'], loc='upper left') \n",
    "plt.show()"
   ]
  },
  {
   "cell_type": "markdown",
   "metadata": {},
   "source": [
    "### Save model"
   ]
  },
  {
   "cell_type": "code",
   "execution_count": null,
   "metadata": {},
   "outputs": [],
   "source": [
    "model1.save('models/model1_' + str(len(history['loss'])) + '_epochs_weg.h5')"
   ]
  },
  {
   "cell_type": "markdown",
   "metadata": {},
   "source": [
    "## Evaluate"
   ]
  },
  {
   "cell_type": "code",
   "execution_count": null,
   "metadata": {},
   "outputs": [],
   "source": [
    "#model = tf.keras.models.load_model('models/model1_NoAug_20_epochs.h5')"
   ]
  },
  {
   "cell_type": "code",
   "execution_count": null,
   "metadata": {},
   "outputs": [],
   "source": [
    "val_steps=test_generator.n//test_generator.batch_size+1\n",
    "print(val_steps)\n",
    "loss, acc = model1.evaluate(test_generator,verbose=1,steps=val_steps)\n",
    "pred = model1.predict(test_generator,verbose=1,steps=val_steps).argmax(axis=1)\n",
    "#print(pred)\n",
    "print('Test loss: %f' %loss)\n",
    "print('Test accuracy: %f' %acc)\n",
    "print(classification_report(test_generator.classes, pred, target_names=classnames,digits=4))\n"
   ]
  },
  {
   "cell_type": "code",
   "execution_count": null,
   "metadata": {},
   "outputs": [],
   "source": [
    "ytest = test_generator.classes\n",
    "cm = confusion_matrix(ytest, pred)\n",
    "disp = ConfusionMatrixDisplay(confusion_matrix=cm,display_labels=classnames)\n",
    "disp.plot(cmap=plt.cm.Blues)\n",
    "plt.show()\n",
    "\n",
    "\n",
    "conf = [] # data structure for confusions: list of (i,j,cm[i][j])\n",
    "for i in range(0,cm.shape[0]):\n",
    "  for j in range(0,cm.shape[1]):\n",
    "    if (i!=j and cm[i][j]>0):\n",
    "      conf.append([i,j,cm[i][j]])\n",
    "\n",
    "col=2\n",
    "conf = np.array(conf)\n",
    "conf = conf[np.argsort(-conf[:,col])]  # decreasing order by 3-rd column (i.e., cm[i][j])\n",
    "\n",
    "print('%-16s     %-16s  \\t%s \\t%s ' %('True','Predicted','errors','err %'))\n",
    "print('------------------------------------------------------------------')\n",
    "for k in conf:\n",
    "  print('%-16s ->  %-16s  \\t%d \\t%.2f %% ' %(classnames[k[0]],classnames[k[1]],k[2],k[2]*100.0/test_generator.n))"
   ]
  },
  {
   "cell_type": "markdown",
   "metadata": {},
   "source": [
    "# Model II"
   ]
  },
  {
   "cell_type": "code",
   "execution_count": 8,
   "metadata": {},
   "outputs": [
    {
     "name": "stdout",
     "output_type": "stream",
     "text": [
      "Model: \"model_1\"\n",
      "_________________________________________________________________\n",
      " Layer (type)                Output Shape              Param #   \n",
      "=================================================================\n",
      " input_2 (InputLayer)        [(None, 96, 96, 3)]       0         \n",
      "                                                                 \n",
      " conv2d_4 (Conv2D)           (None, 94, 94, 32)        896       \n",
      "                                                                 \n",
      " max_pooling2d_3 (MaxPoolin  (None, 47, 47, 32)        0         \n",
      " g2D)                                                            \n",
      "                                                                 \n",
      " conv2d_5 (Conv2D)           (None, 45, 45, 64)        18496     \n",
      "                                                                 \n",
      " max_pooling2d_4 (MaxPoolin  (None, 22, 22, 64)        0         \n",
      " g2D)                                                            \n",
      "                                                                 \n",
      " conv2d_6 (Conv2D)           (None, 20, 20, 128)       73856     \n",
      "                                                                 \n",
      " conv2d_7 (Conv2D)           (None, 18, 18, 128)       147584    \n",
      "                                                                 \n",
      " max_pooling2d_5 (MaxPoolin  (None, 9, 9, 128)         0         \n",
      " g2D)                                                            \n",
      "                                                                 \n",
      " conv2d_8 (Conv2D)           (None, 7, 7, 256)         295168    \n",
      "                                                                 \n",
      " max_pooling2d_6 (MaxPoolin  (None, 3, 3, 256)         0         \n",
      " g2D)                                                            \n",
      "                                                                 \n",
      " batch_normalization_1 (Bat  (None, 3, 3, 256)         1024      \n",
      " chNormalization)                                                \n",
      "                                                                 \n",
      " flatten_1 (Flatten)         (None, 2304)              0         \n",
      "                                                                 \n",
      " dense_2 (Dense)             (None, 128)               295040    \n",
      "                                                                 \n",
      " dropout_1 (Dropout)         (None, 128)               0         \n",
      "                                                                 \n",
      " dense_3 (Dense)             (None, 5)                 645       \n",
      "                                                                 \n",
      "=================================================================\n",
      "Total params: 832709 (3.18 MB)\n",
      "Trainable params: 832197 (3.17 MB)\n",
      "Non-trainable params: 512 (2.00 KB)\n",
      "_________________________________________________________________\n"
     ]
    }
   ],
   "source": [
    "def model2(input_shape, num_classes, lr = 0.001):\n",
    "    input_layer = Input(input_shape) \n",
    "\n",
    "    # 4 cov layers\n",
    "    x = Conv2D(32, (3, 3), activation='relu')(input_layer)\n",
    "    x = MaxPooling2D((2, 2))(x)\n",
    "    x = Conv2D(64, (3, 3), activation='relu')(x)\n",
    "    x = MaxPooling2D((2, 2))(x)\n",
    "    x = Conv2D(128, (3, 3), activation='relu')(x)\n",
    "    #x = Conv2D(128, (3, 3), activation='relu')(x)\n",
    "    x = MaxPooling2D((2, 2))(x)\n",
    "    x = Conv2D(256, (3, 3), activation='relu')(x)\n",
    "    x = MaxPooling2D((2, 2))(x)\n",
    "    x = BatchNormalization()(x)\n",
    "    x = Flatten()(x)\n",
    "    x = Dense(128, activation='relu')(x)\n",
    "    x = Dropout(0.4)(x)\n",
    "    output_layer = Dense(num_classes, activation='softmax')(x)\n",
    "\n",
    "\n",
    "    # Create and compile the composite model\n",
    "    adam = optimizers.Adam(learning_rate=lr)\n",
    "    model = Model(inputs=input_layer, outputs=output_layer)\n",
    "    model.compile(loss='categorical_crossentropy', optimizer=adam, metrics=['accuracy'])\n",
    "\n",
    "    return model\n",
    "\n",
    "model2 = model2(input_shape, num_classes)\n",
    "\n",
    "# Print the model summary\n",
    "model2.summary()\n",
    "\n",
    "# define the callback\n",
    "callback2 = tf.keras.callbacks.EarlyStopping(monitor='val_loss',patience=3)\n",
    "\n",
    "history = None"
   ]
  },
  {
   "cell_type": "markdown",
   "metadata": {},
   "source": [
    "## Train"
   ]
  },
  {
   "cell_type": "code",
   "execution_count": null,
   "metadata": {},
   "outputs": [],
   "source": [
    "class_weights = compute_class_weight(class_weight = 'balanced', classes = np.unique(train_generator.classes), y = train_generator.classes)\n",
    "class_weight_dict = dict(enumerate(class_weights))\n",
    "print(class_weight_dict)"
   ]
  },
  {
   "cell_type": "code",
   "execution_count": null,
   "metadata": {},
   "outputs": [],
   "source": [
    "%%time\n",
    "steps_per_epoch=train_generator.n//train_generator.batch_size\n",
    "val_steps=test_generator.n//test_generator.batch_size+1\n",
    "\n",
    "epochs = 100  # sets number of epochs\n",
    "\n",
    "h = model2.fit(train_generator, epochs=epochs, verbose=1,\\\n",
    "                    steps_per_epoch=steps_per_epoch,\\\n",
    "                    class_weight=class_weight_dict,\\\n",
    "                    callbacks=[callback2]\n",
    "                    validation_data=test_generator,\\\n",
    "                    validation_steps=val_steps\n",
    "                    )\n",
    "\n",
    "\n",
    "# append current history\n",
    "if history is None:\n",
    "    history = h.history\n",
    "else:\n",
    "    history['loss'].extend(h.history['loss'])\n",
    "    history['accuracy'].extend(h.history['accuracy'])\n",
    "    history['val_loss'].extend(h.history['val_loss'])\n",
    "    history['val_accuracy'].extend(h.history['val_accuracy'])\n",
    "\n",
    "print(\"number of epochs trained: %d\" %len(history['loss']))\n"
   ]
  },
  {
   "cell_type": "markdown",
   "metadata": {},
   "source": [
    "## Evaluate"
   ]
  },
  {
   "cell_type": "code",
   "execution_count": null,
   "metadata": {},
   "outputs": [],
   "source": [
    "val_steps=test_generator.n//test_generator.batch_size+1\n",
    "print(val_steps)\n",
    "loss, acc = model2.evaluate(test_generator,verbose=1,steps=val_steps)\n",
    "pred = model2.predict(test_generator,verbose=1,steps=val_steps).argmax(axis=1)\n",
    "#print(pred)\n",
    "print('Test loss: %f' %loss)\n",
    "print('Test accuracy: %f' %acc)\n",
    "print(classification_report(test_generator.classes, pred, target_names=classnames,digits=4))"
   ]
  },
  {
   "cell_type": "code",
   "execution_count": null,
   "metadata": {},
   "outputs": [],
   "source": [
    "ytest = test_generator.classes\n",
    "cm = confusion_matrix(ytest, pred)\n",
    "disp = ConfusionMatrixDisplay(confusion_matrix=cm,display_labels=classnames)\n",
    "disp.plot(cmap=plt.cm.Blues)\n",
    "plt.show()\n",
    "\n",
    "\n",
    "conf = [] # data structure for confusions: list of (i,j,cm[i][j])\n",
    "for i in range(0,cm.shape[0]):\n",
    "  for j in range(0,cm.shape[1]):\n",
    "    if (i!=j and cm[i][j]>0):\n",
    "      conf.append([i,j,cm[i][j]])\n",
    "\n",
    "col=2\n",
    "conf = np.array(conf)\n",
    "conf = conf[np.argsort(-conf[:,col])]  # decreasing order by 3-rd column (i.e., cm[i][j])\n",
    "\n",
    "print('%-16s     %-16s  \\t%s \\t%s ' %('True','Predicted','errors','err %'))\n",
    "print('------------------------------------------------------------------')\n",
    "for k in conf:\n",
    "  print('%-16s ->  %-16s  \\t%d \\t%.2f %% ' %(classnames[k[0]],classnames[k[1]],k[2],k[2]*100.0/test_generator.n))"
   ]
  },
  {
   "cell_type": "markdown",
   "metadata": {},
   "source": [
    "### Save model"
   ]
  },
  {
   "cell_type": "code",
   "execution_count": null,
   "metadata": {},
   "outputs": [],
   "source": [
    "model2.save('models/model2' + str(len(history['loss'])) + '_epochs_weg.h5')"
   ]
  }
 ],
 "metadata": {
  "kernelspec": {
   "display_name": "ML",
   "language": "python",
   "name": "python3"
  },
  "language_info": {
   "codemirror_mode": {
    "name": "ipython",
    "version": 3
   },
   "file_extension": ".py",
   "mimetype": "text/x-python",
   "name": "python",
   "nbconvert_exporter": "python",
   "pygments_lexer": "ipython3",
   "version": "3.11.6"
  }
 },
 "nbformat": 4,
 "nbformat_minor": 2
}
